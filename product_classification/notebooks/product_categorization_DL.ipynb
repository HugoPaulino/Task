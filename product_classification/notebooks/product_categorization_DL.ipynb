{
 "cells": [
  {
   "cell_type": "markdown",
   "metadata": {},
   "source": [
    "# Product Category Classification"
   ]
  },
  {
   "cell_type": "code",
   "execution_count": 72,
   "metadata": {},
   "outputs": [],
   "source": [
    "import pandas as pd\n",
    "from sklearn.pipeline import Pipeline\n",
    "from sklearn.model_selection import train_test_split\n",
    "import sklearn.metrics as metrics"
   ]
  },
  {
   "cell_type": "markdown",
   "metadata": {},
   "source": [
    "## Summary\n",
    "- <a href='#1'>1. Data Loading</a>\n",
    "- <a href='#2'>1. Data Preprocessing</a>\n",
    "    - <a href='#2.1'>2.1.  Data Analysis</a>\n",
    "    - <a href='#2.2'>2.2.  Data Preprocessing</a>\n",
    "- <a href='#3'>3.  ML Approaches</a>\n",
    "    - <a href='#3.1'>3.1  Traditional Approach Baseline</a>\n",
    "    - <a href='#3.2'>3.2  Traditional Approach with add_text column</a>\n",
    "    - <a href='#3.3'>3.3  Traditional Approach with add_text and manufacturer columns</a>\n",
    "- <a href='#4'>4. Conclusion</a>"
   ]
  },
  {
   "cell_type": "markdown",
   "metadata": {},
   "source": [
    "# <a id='1'>1. Data Loading</a>"
   ]
  },
  {
   "cell_type": "code",
   "execution_count": 5,
   "metadata": {},
   "outputs": [],
   "source": [
    "FILE_PATH = \"../data/testset_C.csv\" # File Path where the training files are located"
   ]
  },
  {
   "cell_type": "code",
   "execution_count": 7,
   "metadata": {},
   "outputs": [],
   "source": [
    "df = pd.read_csv(FILE_PATH, sep=';')"
   ]
  },
  {
   "cell_type": "code",
   "execution_count": 8,
   "metadata": {},
   "outputs": [
    {
     "data": {
      "text/html": [
       "<div>\n",
       "<style scoped>\n",
       "    .dataframe tbody tr th:only-of-type {\n",
       "        vertical-align: middle;\n",
       "    }\n",
       "\n",
       "    .dataframe tbody tr th {\n",
       "        vertical-align: top;\n",
       "    }\n",
       "\n",
       "    .dataframe thead th {\n",
       "        text-align: right;\n",
       "    }\n",
       "</style>\n",
       "<table border=\"1\" class=\"dataframe\">\n",
       "  <thead>\n",
       "    <tr style=\"text-align: right;\">\n",
       "      <th></th>\n",
       "      <th>id</th>\n",
       "      <th>productgroup</th>\n",
       "      <th>main_text</th>\n",
       "      <th>add_text</th>\n",
       "      <th>manufacturer</th>\n",
       "    </tr>\n",
       "  </thead>\n",
       "  <tbody>\n",
       "    <tr>\n",
       "      <th>0</th>\n",
       "      <td>26229701</td>\n",
       "      <td>WASHINGMACHINES</td>\n",
       "      <td>WAQ284E25</td>\n",
       "      <td>WASCHMASCHINEN</td>\n",
       "      <td>BOSCH</td>\n",
       "    </tr>\n",
       "    <tr>\n",
       "      <th>1</th>\n",
       "      <td>16576864</td>\n",
       "      <td>USB MEMORY</td>\n",
       "      <td>LEEF IBRIDGE MOBILE SPEICHERERWEITERUNG FUER I...</td>\n",
       "      <td>PC__1100COMPUTINGMEMORY__1110MEMORYCARDS</td>\n",
       "      <td>LEEF</td>\n",
       "    </tr>\n",
       "    <tr>\n",
       "      <th>2</th>\n",
       "      <td>26155618</td>\n",
       "      <td>USB MEMORY</td>\n",
       "      <td>SANDISK 32GB ULTRA FIT USB 3.0</td>\n",
       "      <td>W1370</td>\n",
       "      <td>NaN</td>\n",
       "    </tr>\n",
       "    <tr>\n",
       "      <th>3</th>\n",
       "      <td>25646138</td>\n",
       "      <td>BICYCLES</td>\n",
       "      <td>HOLLANDRAD DAMEN 28 ZOLL TUSSAUD 3-GAENGE RH 5...</td>\n",
       "      <td>FAHRRAEDER // SPORTFAHRRAEDER</td>\n",
       "      <td>SCHALOW &amp; KROH GMBH</td>\n",
       "    </tr>\n",
       "    <tr>\n",
       "      <th>4</th>\n",
       "      <td>19764614</td>\n",
       "      <td>BICYCLES</td>\n",
       "      <td>DAHON SPEED D7 SCHWARZ ? FALTRAD</td>\n",
       "      <td>SPORTS__30000WHEELED__30070BIKES</td>\n",
       "      <td>DAHON</td>\n",
       "    </tr>\n",
       "    <tr>\n",
       "      <th>...</th>\n",
       "      <td>...</td>\n",
       "      <td>...</td>\n",
       "      <td>...</td>\n",
       "      <td>...</td>\n",
       "      <td>...</td>\n",
       "    </tr>\n",
       "    <tr>\n",
       "      <th>7995</th>\n",
       "      <td>61028716</td>\n",
       "      <td>BICYCLES</td>\n",
       "      <td>TOPSY KINDERRAD 12 1/2 POLARWEISS O O O  419640</td>\n",
       "      <td>H006W0792344__WERKZEUG_AUTO/FAHRRAD_FAHRRAEDER</td>\n",
       "      <td>SI-ZWEIRAD-VERTRIEBS GMBH</td>\n",
       "    </tr>\n",
       "    <tr>\n",
       "      <th>7996</th>\n",
       "      <td>37734138</td>\n",
       "      <td>BICYCLES</td>\n",
       "      <td>CREME ECHO SOLO 16-SPEED WHITE</td>\n",
       "      <td>FAHRRAEDER&gt;&gt;RENNRAEDER&gt;&gt;RENNRAEDER</td>\n",
       "      <td>CREME</td>\n",
       "    </tr>\n",
       "    <tr>\n",
       "      <th>7997</th>\n",
       "      <td>17891755</td>\n",
       "      <td>CONTACT LENSES</td>\n",
       "      <td>ACUVUE 1-DAY MOIST TAGESLINSEN WEICH, 30 STUEC...</td>\n",
       "      <td>HEALTH&amp;PERSONALCARE__3100OPTICS__3101SPHERICCO...</td>\n",
       "      <td>JOHNSON &amp; JOHNSON</td>\n",
       "    </tr>\n",
       "    <tr>\n",
       "      <th>7998</th>\n",
       "      <td>42298563</td>\n",
       "      <td>BICYCLES</td>\n",
       "      <td>UNIVEGA TERRENO 1.0 HE MATTBLAUGRAU 45 CM</td>\n",
       "      <td>1_7_4</td>\n",
       "      <td>UNIVEGA</td>\n",
       "    </tr>\n",
       "    <tr>\n",
       "      <th>7999</th>\n",
       "      <td>26300286</td>\n",
       "      <td>WASHINGMACHINES</td>\n",
       "      <td>LAVAMAT 63479 FL A+++ WASCHVOLLAUTOMAT</td>\n",
       "      <td>WASCHMASCHINEN</td>\n",
       "      <td>AEG</td>\n",
       "    </tr>\n",
       "  </tbody>\n",
       "</table>\n",
       "<p>8000 rows × 5 columns</p>\n",
       "</div>"
      ],
      "text/plain": [
       "            id     productgroup  \\\n",
       "0     26229701  WASHINGMACHINES   \n",
       "1     16576864       USB MEMORY   \n",
       "2     26155618       USB MEMORY   \n",
       "3     25646138         BICYCLES   \n",
       "4     19764614         BICYCLES   \n",
       "...        ...              ...   \n",
       "7995  61028716         BICYCLES   \n",
       "7996  37734138         BICYCLES   \n",
       "7997  17891755   CONTACT LENSES   \n",
       "7998  42298563         BICYCLES   \n",
       "7999  26300286  WASHINGMACHINES   \n",
       "\n",
       "                                              main_text  \\\n",
       "0                                             WAQ284E25   \n",
       "1     LEEF IBRIDGE MOBILE SPEICHERERWEITERUNG FUER I...   \n",
       "2                        SANDISK 32GB ULTRA FIT USB 3.0   \n",
       "3     HOLLANDRAD DAMEN 28 ZOLL TUSSAUD 3-GAENGE RH 5...   \n",
       "4                      DAHON SPEED D7 SCHWARZ ? FALTRAD   \n",
       "...                                                 ...   \n",
       "7995    TOPSY KINDERRAD 12 1/2 POLARWEISS O O O  419640   \n",
       "7996                     CREME ECHO SOLO 16-SPEED WHITE   \n",
       "7997  ACUVUE 1-DAY MOIST TAGESLINSEN WEICH, 30 STUEC...   \n",
       "7998          UNIVEGA TERRENO 1.0 HE MATTBLAUGRAU 45 CM   \n",
       "7999             LAVAMAT 63479 FL A+++ WASCHVOLLAUTOMAT   \n",
       "\n",
       "                                               add_text  \\\n",
       "0                                        WASCHMASCHINEN   \n",
       "1              PC__1100COMPUTINGMEMORY__1110MEMORYCARDS   \n",
       "2                                                 W1370   \n",
       "3                         FAHRRAEDER // SPORTFAHRRAEDER   \n",
       "4                      SPORTS__30000WHEELED__30070BIKES   \n",
       "...                                                 ...   \n",
       "7995     H006W0792344__WERKZEUG_AUTO/FAHRRAD_FAHRRAEDER   \n",
       "7996                 FAHRRAEDER>>RENNRAEDER>>RENNRAEDER   \n",
       "7997  HEALTH&PERSONALCARE__3100OPTICS__3101SPHERICCO...   \n",
       "7998                                              1_7_4   \n",
       "7999                                     WASCHMASCHINEN   \n",
       "\n",
       "                   manufacturer  \n",
       "0                         BOSCH  \n",
       "1                          LEEF  \n",
       "2                           NaN  \n",
       "3           SCHALOW & KROH GMBH  \n",
       "4                         DAHON  \n",
       "...                         ...  \n",
       "7995  SI-ZWEIRAD-VERTRIEBS GMBH  \n",
       "7996                      CREME  \n",
       "7997          JOHNSON & JOHNSON  \n",
       "7998                    UNIVEGA  \n",
       "7999                        AEG  \n",
       "\n",
       "[8000 rows x 5 columns]"
      ]
     },
     "execution_count": 8,
     "metadata": {},
     "output_type": "execute_result"
    }
   ],
   "source": [
    "df"
   ]
  },
  {
   "cell_type": "code",
   "execution_count": 11,
   "metadata": {},
   "outputs": [
    {
     "name": "stdout",
     "output_type": "stream",
     "text": [
      "<class 'pandas.core.frame.DataFrame'>\n",
      "RangeIndex: 8000 entries, 0 to 7999\n",
      "Data columns (total 5 columns):\n",
      " #   Column        Non-Null Count  Dtype \n",
      "---  ------        --------------  ----- \n",
      " 0   id            8000 non-null   int64 \n",
      " 1   productgroup  8000 non-null   object\n",
      " 2   main_text     7998 non-null   object\n",
      " 3   add_text      8000 non-null   object\n",
      " 4   manufacturer  6656 non-null   object\n",
      "dtypes: int64(1), object(4)\n",
      "memory usage: 312.6+ KB\n"
     ]
    }
   ],
   "source": [
    "df.info()"
   ]
  },
  {
   "cell_type": "markdown",
   "metadata": {},
   "source": [
    "# <a id='2'>2. Data Preprocessing</a>"
   ]
  },
  {
   "cell_type": "markdown",
   "metadata": {},
   "source": [
    "## <a id='2'>2.1.  Data Analysis</a>"
   ]
  },
  {
   "cell_type": "code",
   "execution_count": 17,
   "metadata": {},
   "outputs": [
    {
     "name": "stdout",
     "output_type": "stream",
     "text": [
      "<class 'pandas.core.frame.DataFrame'>\n",
      "RangeIndex: 8000 entries, 0 to 7999\n",
      "Data columns (total 5 columns):\n",
      " #   Column        Non-Null Count  Dtype \n",
      "---  ------        --------------  ----- \n",
      " 0   id            8000 non-null   int64 \n",
      " 1   productgroup  8000 non-null   object\n",
      " 2   main_text     7998 non-null   object\n",
      " 3   add_text      8000 non-null   object\n",
      " 4   manufacturer  6656 non-null   object\n",
      "dtypes: int64(1), object(4)\n",
      "memory usage: 312.6+ KB\n"
     ]
    }
   ],
   "source": [
    "df.info()"
   ]
  },
  {
   "cell_type": "code",
   "execution_count": 19,
   "metadata": {},
   "outputs": [
    {
     "data": {
      "text/html": [
       "<div>\n",
       "<style scoped>\n",
       "    .dataframe tbody tr th:only-of-type {\n",
       "        vertical-align: middle;\n",
       "    }\n",
       "\n",
       "    .dataframe tbody tr th {\n",
       "        vertical-align: top;\n",
       "    }\n",
       "\n",
       "    .dataframe thead th {\n",
       "        text-align: right;\n",
       "    }\n",
       "</style>\n",
       "<table border=\"1\" class=\"dataframe\">\n",
       "  <thead>\n",
       "    <tr style=\"text-align: right;\">\n",
       "      <th></th>\n",
       "      <th>id</th>\n",
       "      <th>productgroup</th>\n",
       "      <th>main_text</th>\n",
       "      <th>add_text</th>\n",
       "      <th>manufacturer</th>\n",
       "    </tr>\n",
       "  </thead>\n",
       "  <tbody>\n",
       "    <tr>\n",
       "      <th>0</th>\n",
       "      <td>26229701</td>\n",
       "      <td>WASHINGMACHINES</td>\n",
       "      <td>WAQ284E25</td>\n",
       "      <td>WASCHMASCHINEN</td>\n",
       "      <td>BOSCH</td>\n",
       "    </tr>\n",
       "    <tr>\n",
       "      <th>1</th>\n",
       "      <td>16576864</td>\n",
       "      <td>USB MEMORY</td>\n",
       "      <td>LEEF IBRIDGE MOBILE SPEICHERERWEITERUNG FUER I...</td>\n",
       "      <td>PC__1100COMPUTINGMEMORY__1110MEMORYCARDS</td>\n",
       "      <td>LEEF</td>\n",
       "    </tr>\n",
       "  </tbody>\n",
       "</table>\n",
       "</div>"
      ],
      "text/plain": [
       "         id     productgroup  \\\n",
       "0  26229701  WASHINGMACHINES   \n",
       "1  16576864       USB MEMORY   \n",
       "\n",
       "                                           main_text  \\\n",
       "0                                          WAQ284E25   \n",
       "1  LEEF IBRIDGE MOBILE SPEICHERERWEITERUNG FUER I...   \n",
       "\n",
       "                                   add_text manufacturer  \n",
       "0                            WASCHMASCHINEN        BOSCH  \n",
       "1  PC__1100COMPUTINGMEMORY__1110MEMORYCARDS         LEEF  "
      ]
     },
     "execution_count": 19,
     "metadata": {},
     "output_type": "execute_result"
    }
   ],
   "source": [
    "df.head(2)"
   ]
  },
  {
   "cell_type": "code",
   "execution_count": 20,
   "metadata": {},
   "outputs": [
    {
     "name": "stdout",
     "output_type": "stream",
     "text": [
      "WASHINGMACHINES    2000\n",
      "BICYCLES           2000\n",
      "USB MEMORY         2000\n",
      "CONTACT LENSES     2000\n",
      "Name: productgroup, dtype: int64\n"
     ]
    },
    {
     "data": {
      "text/plain": [
       "<AxesSubplot:>"
      ]
     },
     "execution_count": 20,
     "metadata": {},
     "output_type": "execute_result"
    },
    {
     "data": {
      "image/png": "[encoded data removed]",
      "text/plain": [
       "<Figure size 432x288 with 1 Axes>"
      ]
     },
     "metadata": {
      "needs_background": "light"
     },
     "output_type": "display_data"
    }
   ],
   "source": [
    "print(df.productgroup.value_counts())\n",
    "df.productgroup.value_counts().plot(kind='bar')"
   ]
  },
  {
   "cell_type": "code",
   "execution_count": 23,
   "metadata": {},
   "outputs": [
    {
     "name": "stdout",
     "output_type": "stream",
     "text": [
      "/              1700\n",
      "USB            1307\n",
      "STÜCKUNISEX    1065\n",
      "CM              618\n",
      "USB-STICK       525\n",
      "               ... \n",
      "28440             1\n",
      "PCK:78174         1\n",
      "933323            1\n",
      "GREY/ORANGE       1\n",
      "4KG               1\n",
      "Length: 9803, dtype: int64\n"
     ]
    },
    {
     "data": {
      "text/plain": [
       "<AxesSubplot:>"
      ]
     },
     "execution_count": 23,
     "metadata": {},
     "output_type": "execute_result"
    },
    {
     "data": {
      "image/png": "[encoded data removed]",
      "text/plain": [
       "<Figure size 720x720 with 1 Axes>"
      ]
     },
     "metadata": {
      "needs_background": "light"
     },
     "output_type": "display_data"
    }
   ],
   "source": [
    "print(df.main_text.str.split(expand=True).stack().value_counts())\n",
    "\n",
    "df.main_text.str.split(expand=True).stack().value_counts()[0:50].plot(kind='bar',figsize=(10,10))\n",
    "\n",
    "# We have 8319 different words for our training set as we can see the words that are more common to appear is \n",
    "#prepositions \"the, of, and so on \""
   ]
  },
  {
   "cell_type": "code",
   "execution_count": null,
   "metadata": {},
   "outputs": [],
   "source": []
  },
  {
   "cell_type": "code",
   "execution_count": 24,
   "metadata": {},
   "outputs": [
    {
     "name": "stdout",
     "output_type": "stream",
     "text": [
      "WASCHVOLLAUTOMAT OMV510A+ OMV510A+|| EEK:A+, 1000 U/MIN, 5KG KAPAZITAET  5043487                                                                                        85\n",
      "PROCLEAR TORIC6 STÜCKUNISEX                                                                                                                                             75\n",
      "AIR OPTIX FOR ASTIGM.6 STÜCKUNISEX                                                                                                                                      74\n",
      "BIOFINITY TORIC 6ER BOX6 STÜCKUNISEX                                                                                                                                    71\n",
      "SOFLENS TORIC6 STÜCKUNISEX                                                                                                                                              68\n",
      "                                                                                                                                                                        ..\n",
      "USB-STICK 16GB PINK STORE N GO V3 3.0 • SUPERSCHNELLER USB STICKS DANK USB 3.0 • PRAKTISCHER SCHIEBEMECHANISMUS • LESEGESCHWINDIGKEIT: 8 G  PCK:000 PEH:1 MEH:STUECK     1\n",
      "CUBE STEREO 140 C:62 RACE 27.5 CARBON'N'FLASHRED                                                                                                                         1\n",
      "EXTREME H2O THIN6 STÜCKUNISEX                                                                                                                                            1\n",
      "1 WA CHAMPION 8 PS WEISS                                                                                                                                                 1\n",
      "USB-STICK  8GB EMTEC  HB100 FAMILIE FEUERSTEIN FRED  USB 2.0                                                                                                             1\n",
      "Name: main_text, Length: 6643, dtype: int64\n"
     ]
    },
    {
     "data": {
      "text/plain": [
       "<AxesSubplot:>"
      ]
     },
     "execution_count": 24,
     "metadata": {},
     "output_type": "execute_result"
    },
    {
     "data": {
      "image/png": "[encoded data removed]",
      "text/plain": [
       "<Figure size 720x720 with 1 Axes>"
      ]
     },
     "metadata": {
      "needs_background": "light"
     },
     "output_type": "display_data"
    }
   ],
   "source": [
    "print(df.main_text.value_counts())\n",
    "df.main_text.value_counts()[0:50].plot(kind='bar',figsize=(10,10))"
   ]
  },
  {
   "cell_type": "code",
   "execution_count": 25,
   "metadata": {},
   "outputs": [
    {
     "name": "stdout",
     "output_type": "stream",
     "text": [
      "Max number of words inside a text =  214.0\n",
      "Mean number of words =  7.4533633408352085\n"
     ]
    }
   ],
   "source": [
    "length_of_the_messages = df[\"main_text\"].str.split()\n",
    "print(\"Max number of words inside a text = \", length_of_the_messages.str.len().max())\n",
    "print(\"Mean number of words = \", length_of_the_messages.str.len().mean())\n",
    "\n",
    "# the mean number of words inside a text is about 3 words and the max text found has 102 words"
   ]
  },
  {
   "cell_type": "code",
   "execution_count": null,
   "metadata": {},
   "outputs": [],
   "source": []
  },
  {
   "cell_type": "code",
   "execution_count": 32,
   "metadata": {},
   "outputs": [
    {
     "data": {
      "text/plain": [
       "WASCHVOLLAUTOMAT OMV510A+ OMV510A+|| EEK:A+, 1000 U/MIN, 5KG KAPAZITAET  5043487                                                                                                                                     85\n",
       "WASCHVOLLAUTOMAT WAB28270|| EEK:A+++,1400U/MIN,6KG BELADUNG  5045129                                                                                                                                                 18\n",
       "WASCHVOLLAUTOMAT WML15106MNE+|| EEK:A+, 15 PROGR., 5KG, 1000U/MIN  5049998                                                                                                                                           16\n",
       "WAB28270Waschmaschine Bosch  ||BHT  59 x 84 x 55  ||WAB28270  ||Effizienzklassen A+++/B, Max. ||menge 6 kg, max. Schleuderdreh||1400 U/min, Verbrauchswerte/Ja||Programmmix: 10560 Liter Wasse||153 kWh Strom  ||    13\n",
       "WASCHVOLLAUTOMAT WM14B222IQ|| EEK:A+++, 6KG BELADUNG,1400 U  5045126                                                                                                                                                  8\n",
       "                                                                                                                                                                                                                     ..\n",
       "L61470WD                                                                                                                                                                                                              1\n",
       "LAVAMAT L62260 TL A+++ 6 KG WEISS                                                                                                                                                                                     1\n",
       "SAMS WAMA WF7AF5E3P4W/EG  A+++WH  PCK:377344000 PEH:0 MEH:ST                                                                                                                                                          1\n",
       "WAK282E1                                                                                                                                                                                                              1\n",
       "5 757160 WA 5716 757160 WASCHMASCHINE 6KG, 8 PROGRAMME, 1.000 U/MIN.||LED-ANZEIGEN, MENGENAUTOMATIK FLUSENSIEB, EEK A+|| E 4004470757163                                                                              1\n",
       "Name: main_text, Length: 1794, dtype: int64"
      ]
     },
     "execution_count": 32,
     "metadata": {},
     "output_type": "execute_result"
    }
   ],
   "source": [
    "df[df.productgroup == \"WASHINGMACHINES\"].main_text.value_counts()"
   ]
  },
  {
   "cell_type": "code",
   "execution_count": 34,
   "metadata": {},
   "outputs": [
    {
     "data": {
      "text/plain": [
       "FIXIE INC. FLOATER GREEN                        5\n",
       "FIXIE INC. FLOATER PINK                         5\n",
       "SERIOUS ROCKVILLE 27,5 BLACK                    3\n",
       "TREKKING HERRENRAD  28ER 21-GANG                3\n",
       "SERIOUS ROCKVILLE 26 BLACK/GREEN                3\n",
       "                                               ..\n",
       "GHOST KATO FS 2 SCHWARZ/BLAU 42 CM              1\n",
       "442540  MTB 275 MTB 27,5 SCHW./TUERKIS 53       1\n",
       "ATB BOCAS SPORE DIAMANT MATTSCHWARZ 50 CM       1\n",
       "WINORA SAMOA HERREN GRAU/CYAN MATT 51 CM        1\n",
       "BERGAMONT ROXTAR 5.0 SCHWARZ/BLAU/GELB 51 CM    1\n",
       "Name: main_text, Length: 1911, dtype: int64"
      ]
     },
     "execution_count": 34,
     "metadata": {},
     "output_type": "execute_result"
    }
   ],
   "source": [
    "df[df.productgroup == \"BICYCLES\"].main_text.value_counts()"
   ]
  },
  {
   "cell_type": "code",
   "execution_count": 37,
   "metadata": {},
   "outputs": [
    {
     "data": {
      "text/plain": [
       "VERBATIM STORE N GO PINSTRIPE                                5\n",
       "VERBATIM STORE N GO V3                                       4\n",
       "SONY MICRO VAULT USM-X 8GB                                   3\n",
       "VERBATIM MINI METAL                                          3\n",
       "LEXAR JUMPDRIVE USB 3.0 32GB                                 3\n",
       "                                                            ..\n",
       "INTENSO USB STICK 16GB RAINBOW LINE SCHWARZ  SCHWARZ         1\n",
       "INTEGRAL USB FLASH DRIVE XPRESSION 16GB USB 2.0 - FLOWERS    1\n",
       "SANDISK CRUZER SWITCH 16GB                                   1\n",
       "USB-STICK  32GB TRANSCEND JETFLASH 810 USB3.0 70/18MB/S      1\n",
       "USB STICK  HAMA 123925                                       1\n",
       "Name: main_text, Length: 1944, dtype: int64"
      ]
     },
     "execution_count": 37,
     "metadata": {},
     "output_type": "execute_result"
    }
   ],
   "source": [
    "df[(df.productgroup == \"USB MEMORY\") ].main_text.value_counts()"
   ]
  },
  {
   "cell_type": "code",
   "execution_count": 38,
   "metadata": {},
   "outputs": [
    {
     "data": {
      "text/plain": [
       "PROCLEAR TORIC6 STÜCKUNISEX                                                                                                     75\n",
       "AIR OPTIX FOR ASTIGM.6 STÜCKUNISEX                                                                                              74\n",
       "BIOFINITY TORIC 6ER BOX6 STÜCKUNISEX                                                                                            71\n",
       "SOFLENS TORIC6 STÜCKUNISEX                                                                                                      68\n",
       "BIOFINITY TORIC 3ER BOX3 STÜCKUNISEX                                                                                            65\n",
       "                                                                                                                                ..\n",
       "ACUVUE OASYS FOR ASTIGMATISM 2-WOCHENLINSEN WEICH, 6 STUECK / BC 8.6 MM / DIA 14.5 / CYL -2.25 / ACHSE 160 / -2.00 DIOPTRIEN     1\n",
       "FRESHLOOK COLORBLENDS SILBERGRAU MONATSLINSEN WEICH, 2 STUECK / BC 8,6 MM / DIA 14,5 MM / -2,75 DIOPTRIEN                        1\n",
       "CONTACTLINSEN COOPERVISION GMBH ASCEND COMFORT                                                                                   1\n",
       "CONTACTLINSEN MPG&E CONTACTLINSEN GMBH COMPACT PERFECT SMART FOCUS (M                                                            1\n",
       "1INHALT: 2 x 6er Biofinity Sp                                                                                                    1\n",
       "Name: main_text, Length: 994, dtype: int64"
      ]
     },
     "execution_count": 38,
     "metadata": {},
     "output_type": "execute_result"
    }
   ],
   "source": [
    "df[(df.productgroup == \"CONTACT LENSES\")].main_text.value_counts()"
   ]
  },
  {
   "cell_type": "markdown",
   "metadata": {},
   "source": [
    "## <a id='2.2'>2.2.  Data Preparation/preprocessing</a>"
   ]
  },
  {
   "cell_type": "code",
   "execution_count": 40,
   "metadata": {},
   "outputs": [
    {
     "data": {
      "text/plain": [
       "8000"
      ]
     },
     "execution_count": 40,
     "metadata": {},
     "output_type": "execute_result"
    }
   ],
   "source": [
    "len(df)"
   ]
  },
  {
   "cell_type": "code",
   "execution_count": 42,
   "metadata": {},
   "outputs": [],
   "source": [
    "# drop rows with only two character and that doesn't contains any linkings \n",
    "df_train_preprocessing = df[( df[\"main_text\"].str.len() > 1 )] "
   ]
  },
  {
   "cell_type": "code",
   "execution_count": 44,
   "metadata": {},
   "outputs": [
    {
     "data": {
      "text/plain": [
       "BICYCLES           2000\n",
       "CONTACT LENSES     2000\n",
       "WASHINGMACHINES    1999\n",
       "USB MEMORY         1999\n",
       "Name: productgroup, dtype: int64"
      ]
     },
     "execution_count": 44,
     "metadata": {},
     "output_type": "execute_result"
    }
   ],
   "source": [
    "df_train_preprocessing.productgroup.value_counts()"
   ]
  },
  {
   "cell_type": "code",
   "execution_count": 45,
   "metadata": {},
   "outputs": [
    {
     "data": {
      "text/plain": [
       "7998"
      ]
     },
     "execution_count": 45,
     "metadata": {},
     "output_type": "execute_result"
    }
   ],
   "source": [
    "len(df_train_preprocessing)"
   ]
  },
  {
   "cell_type": "code",
   "execution_count": 47,
   "metadata": {},
   "outputs": [
    {
     "ename": "KeyError",
     "evalue": "\"['id'] not found in axis\"",
     "output_type": "error",
     "traceback": [
      "\u001b[0;31m---------------------------------------------------------------------------\u001b[0m",
      "\u001b[0;31mKeyError\u001b[0m                                  Traceback (most recent call last)",
      "\u001b[0;32m<ipython-input-47-ed16b0292792>\u001b[0m in \u001b[0;36m<module>\u001b[0;34m\u001b[0m\n\u001b[0;32m----> 1\u001b[0;31m \u001b[0mdf_train_preprocessing\u001b[0m\u001b[0;34m.\u001b[0m\u001b[0mdrop\u001b[0m\u001b[0;34m(\u001b[0m\u001b[0;34m'id'\u001b[0m\u001b[0;34m,\u001b[0m\u001b[0minplace\u001b[0m\u001b[0;34m=\u001b[0m\u001b[0;32mTrue\u001b[0m\u001b[0;34m,\u001b[0m\u001b[0maxis\u001b[0m\u001b[0;34m=\u001b[0m\u001b[0;36m1\u001b[0m\u001b[0;34m)\u001b[0m\u001b[0;34m\u001b[0m\u001b[0;34m\u001b[0m\u001b[0m\n\u001b[0m",
      "\u001b[0;32m/usr/local/lib/python3.8/site-packages/pandas/core/frame.py\u001b[0m in \u001b[0;36mdrop\u001b[0;34m(self, labels, axis, index, columns, level, inplace, errors)\u001b[0m\n\u001b[1;32m   4160\u001b[0m                 \u001b[0mweight\u001b[0m  \u001b[0;36m1.0\u001b[0m     \u001b[0;36m0.8\u001b[0m\u001b[0;34m\u001b[0m\u001b[0;34m\u001b[0m\u001b[0m\n\u001b[1;32m   4161\u001b[0m         \"\"\"\n\u001b[0;32m-> 4162\u001b[0;31m         return super().drop(\n\u001b[0m\u001b[1;32m   4163\u001b[0m             \u001b[0mlabels\u001b[0m\u001b[0;34m=\u001b[0m\u001b[0mlabels\u001b[0m\u001b[0;34m,\u001b[0m\u001b[0;34m\u001b[0m\u001b[0;34m\u001b[0m\u001b[0m\n\u001b[1;32m   4164\u001b[0m             \u001b[0maxis\u001b[0m\u001b[0;34m=\u001b[0m\u001b[0maxis\u001b[0m\u001b[0;34m,\u001b[0m\u001b[0;34m\u001b[0m\u001b[0;34m\u001b[0m\u001b[0m\n",
      "\u001b[0;32m/usr/local/lib/python3.8/site-packages/pandas/core/generic.py\u001b[0m in \u001b[0;36mdrop\u001b[0;34m(self, labels, axis, index, columns, level, inplace, errors)\u001b[0m\n\u001b[1;32m   3882\u001b[0m         \u001b[0;32mfor\u001b[0m \u001b[0maxis\u001b[0m\u001b[0;34m,\u001b[0m \u001b[0mlabels\u001b[0m \u001b[0;32min\u001b[0m \u001b[0maxes\u001b[0m\u001b[0;34m.\u001b[0m\u001b[0mitems\u001b[0m\u001b[0;34m(\u001b[0m\u001b[0;34m)\u001b[0m\u001b[0;34m:\u001b[0m\u001b[0;34m\u001b[0m\u001b[0;34m\u001b[0m\u001b[0m\n\u001b[1;32m   3883\u001b[0m             \u001b[0;32mif\u001b[0m \u001b[0mlabels\u001b[0m \u001b[0;32mis\u001b[0m \u001b[0;32mnot\u001b[0m \u001b[0;32mNone\u001b[0m\u001b[0;34m:\u001b[0m\u001b[0;34m\u001b[0m\u001b[0;34m\u001b[0m\u001b[0m\n\u001b[0;32m-> 3884\u001b[0;31m                 \u001b[0mobj\u001b[0m \u001b[0;34m=\u001b[0m \u001b[0mobj\u001b[0m\u001b[0;34m.\u001b[0m\u001b[0m_drop_axis\u001b[0m\u001b[0;34m(\u001b[0m\u001b[0mlabels\u001b[0m\u001b[0;34m,\u001b[0m \u001b[0maxis\u001b[0m\u001b[0;34m,\u001b[0m \u001b[0mlevel\u001b[0m\u001b[0;34m=\u001b[0m\u001b[0mlevel\u001b[0m\u001b[0;34m,\u001b[0m \u001b[0merrors\u001b[0m\u001b[0;34m=\u001b[0m\u001b[0merrors\u001b[0m\u001b[0;34m)\u001b[0m\u001b[0;34m\u001b[0m\u001b[0;34m\u001b[0m\u001b[0m\n\u001b[0m\u001b[1;32m   3885\u001b[0m \u001b[0;34m\u001b[0m\u001b[0m\n\u001b[1;32m   3886\u001b[0m         \u001b[0;32mif\u001b[0m \u001b[0minplace\u001b[0m\u001b[0;34m:\u001b[0m\u001b[0;34m\u001b[0m\u001b[0;34m\u001b[0m\u001b[0m\n",
      "\u001b[0;32m/usr/local/lib/python3.8/site-packages/pandas/core/generic.py\u001b[0m in \u001b[0;36m_drop_axis\u001b[0;34m(self, labels, axis, level, errors)\u001b[0m\n\u001b[1;32m   3916\u001b[0m                 \u001b[0mnew_axis\u001b[0m \u001b[0;34m=\u001b[0m \u001b[0maxis\u001b[0m\u001b[0;34m.\u001b[0m\u001b[0mdrop\u001b[0m\u001b[0;34m(\u001b[0m\u001b[0mlabels\u001b[0m\u001b[0;34m,\u001b[0m \u001b[0mlevel\u001b[0m\u001b[0;34m=\u001b[0m\u001b[0mlevel\u001b[0m\u001b[0;34m,\u001b[0m \u001b[0merrors\u001b[0m\u001b[0;34m=\u001b[0m\u001b[0merrors\u001b[0m\u001b[0;34m)\u001b[0m\u001b[0;34m\u001b[0m\u001b[0;34m\u001b[0m\u001b[0m\n\u001b[1;32m   3917\u001b[0m             \u001b[0;32melse\u001b[0m\u001b[0;34m:\u001b[0m\u001b[0;34m\u001b[0m\u001b[0;34m\u001b[0m\u001b[0m\n\u001b[0;32m-> 3918\u001b[0;31m                 \u001b[0mnew_axis\u001b[0m \u001b[0;34m=\u001b[0m \u001b[0maxis\u001b[0m\u001b[0;34m.\u001b[0m\u001b[0mdrop\u001b[0m\u001b[0;34m(\u001b[0m\u001b[0mlabels\u001b[0m\u001b[0;34m,\u001b[0m \u001b[0merrors\u001b[0m\u001b[0;34m=\u001b[0m\u001b[0merrors\u001b[0m\u001b[0;34m)\u001b[0m\u001b[0;34m\u001b[0m\u001b[0;34m\u001b[0m\u001b[0m\n\u001b[0m\u001b[1;32m   3919\u001b[0m             \u001b[0mresult\u001b[0m \u001b[0;34m=\u001b[0m \u001b[0mself\u001b[0m\u001b[0;34m.\u001b[0m\u001b[0mreindex\u001b[0m\u001b[0;34m(\u001b[0m\u001b[0;34m**\u001b[0m\u001b[0;34m{\u001b[0m\u001b[0maxis_name\u001b[0m\u001b[0;34m:\u001b[0m \u001b[0mnew_axis\u001b[0m\u001b[0;34m}\u001b[0m\u001b[0;34m)\u001b[0m\u001b[0;34m\u001b[0m\u001b[0;34m\u001b[0m\u001b[0m\n\u001b[1;32m   3920\u001b[0m \u001b[0;34m\u001b[0m\u001b[0m\n",
      "\u001b[0;32m/usr/local/lib/python3.8/site-packages/pandas/core/indexes/base.py\u001b[0m in \u001b[0;36mdrop\u001b[0;34m(self, labels, errors)\u001b[0m\n\u001b[1;32m   5276\u001b[0m         \u001b[0;32mif\u001b[0m \u001b[0mmask\u001b[0m\u001b[0;34m.\u001b[0m\u001b[0many\u001b[0m\u001b[0;34m(\u001b[0m\u001b[0;34m)\u001b[0m\u001b[0;34m:\u001b[0m\u001b[0;34m\u001b[0m\u001b[0;34m\u001b[0m\u001b[0m\n\u001b[1;32m   5277\u001b[0m             \u001b[0;32mif\u001b[0m \u001b[0merrors\u001b[0m \u001b[0;34m!=\u001b[0m \u001b[0;34m\"ignore\"\u001b[0m\u001b[0;34m:\u001b[0m\u001b[0;34m\u001b[0m\u001b[0;34m\u001b[0m\u001b[0m\n\u001b[0;32m-> 5278\u001b[0;31m                 \u001b[0;32mraise\u001b[0m \u001b[0mKeyError\u001b[0m\u001b[0;34m(\u001b[0m\u001b[0;34mf\"{labels[mask]} not found in axis\"\u001b[0m\u001b[0;34m)\u001b[0m\u001b[0;34m\u001b[0m\u001b[0;34m\u001b[0m\u001b[0m\n\u001b[0m\u001b[1;32m   5279\u001b[0m             \u001b[0mindexer\u001b[0m \u001b[0;34m=\u001b[0m \u001b[0mindexer\u001b[0m\u001b[0;34m[\u001b[0m\u001b[0;34m~\u001b[0m\u001b[0mmask\u001b[0m\u001b[0;34m]\u001b[0m\u001b[0;34m\u001b[0m\u001b[0;34m\u001b[0m\u001b[0m\n\u001b[1;32m   5280\u001b[0m         \u001b[0;32mreturn\u001b[0m \u001b[0mself\u001b[0m\u001b[0;34m.\u001b[0m\u001b[0mdelete\u001b[0m\u001b[0;34m(\u001b[0m\u001b[0mindexer\u001b[0m\u001b[0;34m)\u001b[0m\u001b[0;34m\u001b[0m\u001b[0;34m\u001b[0m\u001b[0m\n",
      "\u001b[0;31mKeyError\u001b[0m: \"['id'] not found in axis\""
     ]
    }
   ],
   "source": [
    "df_train_preprocessing.drop('id',inplace=True,axis=1)"
   ]
  },
  {
   "cell_type": "code",
   "execution_count": 48,
   "metadata": {},
   "outputs": [
    {
     "data": {
      "text/plain": [
       "BICYCLES           2000\n",
       "CONTACT LENSES     2000\n",
       "WASHINGMACHINES    1999\n",
       "USB MEMORY         1999\n",
       "Name: productgroup, dtype: int64"
      ]
     },
     "execution_count": 48,
     "metadata": {},
     "output_type": "execute_result"
    }
   ],
   "source": [
    "df_train_preprocessing.productgroup.value_counts()"
   ]
  },
  {
   "cell_type": "code",
   "execution_count": 66,
   "metadata": {},
   "outputs": [
    {
     "name": "stderr",
     "output_type": "stream",
     "text": [
      "<ipython-input-66-c81c85122c85>:1: SettingWithCopyWarning: \n",
      "A value is trying to be set on a copy of a slice from a DataFrame.\n",
      "Try using .loc[row_indexer,col_indexer] = value instead\n",
      "\n",
      "See the caveats in the documentation: https://pandas.pydata.org/pandas-docs/stable/user_guide/indexing.html#returning-a-view-versus-a-copy\n",
      "  df_train_preprocessing['main_text'] = df_train_preprocessing.main_text.astype('str')\n"
     ]
    }
   ],
   "source": [
    "df_train_preprocessing['main_text'] = df_train_preprocessing.main_text.astype('str')"
   ]
  },
  {
   "cell_type": "code",
   "execution_count": null,
   "metadata": {},
   "outputs": [],
   "source": []
  },
  {
   "cell_type": "markdown",
   "metadata": {},
   "source": [
    "## <a id='3'>3  ML Approaches</a>\n",
    "\n",
    "I will focus on testing a Traditional approach vs a Deep learning approach"
   ]
  },
  {
   "cell_type": "code",
   "execution_count": 67,
   "metadata": {},
   "outputs": [],
   "source": [
    "from sklearn.naive_bayes import MultinomialNB\n",
    "from sklearn.feature_extraction.text import TfidfVectorizer\n",
    "from xgboost import XGBClassifier"
   ]
  },
  {
   "cell_type": "code",
   "execution_count": 93,
   "metadata": {},
   "outputs": [],
   "source": [
    "# get the params\n",
    "tfidf_params = dict(sublinear_tf= True, \n",
    "                       min_df = 1, \n",
    "                       norm= 'l2',\n",
    "                       ngram_range= (1,2), \n",
    "                       stop_words ='english')"
   ]
  },
  {
   "cell_type": "code",
   "execution_count": 94,
   "metadata": {},
   "outputs": [],
   "source": [
    "# create a Pipeline that will do features transformation then pass to the model for all training\n",
    "clf_NB = Pipeline(steps=[\n",
    "('features', TfidfVectorizer(**tfidf_params)),\n",
    "('model', MultinomialNB())\n",
    "])\n",
    "\n",
    "clf_XGB = Pipeline(steps=[\n",
    "('features', TfidfVectorizer(**tfidf_params)),\n",
    "('model', XGBClassifier())\n",
    "])"
   ]
  },
  {
   "cell_type": "markdown",
   "metadata": {},
   "source": [
    "## <a id='3.1'>3.1  Traditional Approach Baseline</a>"
   ]
  },
  {
   "cell_type": "code",
   "execution_count": 98,
   "metadata": {},
   "outputs": [
    {
     "name": "stdout",
     "output_type": "stream",
     "text": [
      "Accuracy NB:  0.98\n"
     ]
    }
   ],
   "source": [
    "\n",
    "X_train, X_test, y_train, y_test = train_test_split(df_train_preprocessing['main_text'], \n",
    "                                                    df_train_preprocessing['productgroup'],\n",
    "                                                    stratify=df_train_preprocessing['productgroup'], \n",
    "                                                    test_size=0.10)\n",
    "\n",
    "# Use clf as a model, fit X_train and y_train\n",
    "clf_NB.fit(X_train, y_train)\n",
    "\n",
    "# predicted \n",
    "y_pred = clf_NB.predict(X_test)\n",
    "\n",
    "report_nb_nopreprocessing = metrics.classification_report(y_test, y_pred)\n",
    "\n",
    "accuracy = metrics.accuracy_score(y_test, y_pred)\n",
    "print(\"Accuracy NB: \",accuracy)"
   ]
  },
  {
   "cell_type": "code",
   "execution_count": 99,
   "metadata": {},
   "outputs": [
    {
     "name": "stdout",
     "output_type": "stream",
     "text": [
      "Accuracy XGB:  0.98125\n"
     ]
    }
   ],
   "source": [
    "# Use xgb as a model, fit X_train and y_train\n",
    "clf_XGB.fit(X_train, y_train)\n",
    "\n",
    "# predicted \n",
    "y_pred = clf_XGB.predict(X_test)\n",
    "\n",
    "report_xgb_nopreprocessing = metrics.classification_report(y_test, y_pred)\n",
    "\n",
    "accuracy = metrics.accuracy_score(y_test, y_pred)\n",
    "print(\"Accuracy XGB: \",accuracy)"
   ]
  },
  {
   "cell_type": "markdown",
   "metadata": {},
   "source": [
    "### Results"
   ]
  },
  {
   "cell_type": "code",
   "execution_count": 100,
   "metadata": {},
   "outputs": [
    {
     "name": "stdout",
     "output_type": "stream",
     "text": [
      "                 precision    recall  f1-score   support\n",
      "\n",
      "       BICYCLES       0.95      1.00      0.97       200\n",
      " CONTACT LENSES       0.99      0.98      0.99       200\n",
      "     USB MEMORY       0.98      0.98      0.98       200\n",
      "WASHINGMACHINES       0.99      0.95      0.97       200\n",
      "\n",
      "       accuracy                           0.98       800\n",
      "      macro avg       0.98      0.98      0.98       800\n",
      "   weighted avg       0.98      0.98      0.98       800\n",
      "\n",
      "\n",
      "\n",
      "                 precision    recall  f1-score   support\n",
      "\n",
      "       BICYCLES       1.00      0.98      0.99       200\n",
      " CONTACT LENSES       0.99      0.96      0.98       200\n",
      "     USB MEMORY       1.00      0.98      0.99       200\n",
      "WASHINGMACHINES       0.93      1.00      0.97       200\n",
      "\n",
      "       accuracy                           0.98       800\n",
      "      macro avg       0.98      0.98      0.98       800\n",
      "   weighted avg       0.98      0.98      0.98       800\n",
      "\n"
     ]
    }
   ],
   "source": [
    "print(report_nb_nopreprocessing)\n",
    "print(\"\\n\")\n",
    "print(report_xgb_nopreprocessing)"
   ]
  },
  {
   "cell_type": "markdown",
   "metadata": {},
   "source": [
    "## <a id='3.2'>3.2  Traditional Approach with preprocessing</a>"
   ]
  },
  {
   "cell_type": "code",
   "execution_count": 31,
   "metadata": {},
   "outputs": [],
   "source": [
    "# here we only change the training set\n",
    "X_train, X_test, y_train, y_test = train_test_split(df_train_preprocessing['text'], df_train_preprocessing[['label']],stratify=df_train_preprocessing['label'], \n",
    "                                                    test_size=0.10)\n"
   ]
  },
  {
   "cell_type": "code",
   "execution_count": 32,
   "metadata": {},
   "outputs": [
    {
     "name": "stdout",
     "output_type": "stream",
     "text": [
      "Accuracy NB:  0.7597765363128491\n"
     ]
    },
    {
     "name": "stderr",
     "output_type": "stream",
     "text": [
      "/usr/local/lib/python3.8/site-packages/sklearn/utils/validation.py:72: DataConversionWarning: A column-vector y was passed when a 1d array was expected. Please change the shape of y to (n_samples, ), for example using ravel().\n",
      "  return f(**kwargs)\n",
      "/usr/local/lib/python3.8/site-packages/sklearn/metrics/_classification.py:1221: UndefinedMetricWarning: Precision and F-score are ill-defined and being set to 0.0 in labels with no predicted samples. Use `zero_division` parameter to control this behavior.\n",
      "  _warn_prf(average, modifier, msg_start, len(result))\n"
     ]
    }
   ],
   "source": [
    "\n",
    "# Use clf as a model, fit X_train and y_train\n",
    "clf_NB.fit(X_train, y_train)\n",
    "\n",
    "# predicted \n",
    "y_pred = clf_NB.predict(X_test)\n",
    "\n",
    "report_nb_nopreprocessing = metrics.classification_report(y_test, y_pred)\n",
    "\n",
    "accuracy = metrics.accuracy_score(y_test, y_pred)\n",
    "print(\"Accuracy NB: \",accuracy)"
   ]
  },
  {
   "cell_type": "code",
   "execution_count": 33,
   "metadata": {},
   "outputs": [
    {
     "name": "stderr",
     "output_type": "stream",
     "text": [
      "/usr/local/lib/python3.8/site-packages/sklearn/utils/validation.py:72: DataConversionWarning: A column-vector y was passed when a 1d array was expected. Please change the shape of y to (n_samples, ), for example using ravel().\n",
      "  return f(**kwargs)\n"
     ]
    },
    {
     "name": "stdout",
     "output_type": "stream",
     "text": [
      "Accuracy XGB:  0.7094972067039106\n"
     ]
    }
   ],
   "source": [
    "# Use clf as a model, fit X_train and y_train\n",
    "clf_XGB.fit(X_train, y_train)\n",
    "\n",
    "# predicted \n",
    "y_pred = clf_XGB.predict(X_test)\n",
    "\n",
    "report_xgb_nopreprocessing = metrics.classification_report(y_test, y_pred)\n",
    "\n",
    "accuracy = metrics.accuracy_score(y_test, y_pred)\n",
    "print(\"Accuracy XGB: \",accuracy)"
   ]
  },
  {
   "cell_type": "markdown",
   "metadata": {},
   "source": [
    "## RESULTS"
   ]
  },
  {
   "cell_type": "code",
   "execution_count": 34,
   "metadata": {},
   "outputs": [
    {
     "name": "stdout",
     "output_type": "stream",
     "text": [
      "Report Naive Bayes With Preprocessing\n",
      "\n",
      "              precision    recall  f1-score   support\n",
      "\n",
      "      answer       0.86      0.69      0.76       252\n",
      "      header       0.00      0.00      0.00        25\n",
      "       other       0.00      0.00      0.00         4\n",
      "    question       0.70      0.91      0.79       256\n",
      "\n",
      "    accuracy                           0.76       537\n",
      "   macro avg       0.39      0.40      0.39       537\n",
      "weighted avg       0.74      0.76      0.74       537\n",
      "\n",
      "Report XGBoost With Preprocessing\n",
      "\n",
      "              precision    recall  f1-score   support\n",
      "\n",
      "      answer       0.64      0.94      0.76       252\n",
      "      header       0.67      0.16      0.26        25\n",
      "       other       0.00      0.00      0.00         4\n",
      "    question       0.86      0.55      0.67       256\n",
      "\n",
      "    accuracy                           0.71       537\n",
      "   macro avg       0.54      0.41      0.42       537\n",
      "weighted avg       0.74      0.71      0.69       537\n",
      "\n"
     ]
    }
   ],
   "source": [
    "print(\"Report Naive Bayes With Preprocessing\\n\")\n",
    "\n",
    "print(report_nb_nopreprocessing)\n",
    "\n",
    "print(\"Report XGBoost With Preprocessing\\n\")\n",
    "\n",
    "print(report_xgb_nopreprocessing)"
   ]
  },
  {
   "cell_type": "markdown",
   "metadata": {},
   "source": [
    "## <a id='3.3'>3.3 Results on the Test Set</a>"
   ]
  },
  {
   "cell_type": "code",
   "execution_count": 50,
   "metadata": {},
   "outputs": [
    {
     "name": "stdout",
     "output_type": "stream",
     "text": [
      "Accuracy NB:  0.6162092624356775\n"
     ]
    }
   ],
   "source": [
    "y_test= df_test['label']\n",
    "# predicted \n",
    "y_pred = clf_NB.predict(df_test['text'])\n",
    "\n",
    "report_nb = metrics.classification_report(y_test, y_pred)\n",
    "\n",
    "accuracy = metrics.accuracy_score(y_test, y_pred)\n",
    "print(\"Accuracy NB: \",accuracy)"
   ]
  },
  {
   "cell_type": "code",
   "execution_count": 51,
   "metadata": {},
   "outputs": [
    {
     "name": "stdout",
     "output_type": "stream",
     "text": [
      "Accuracy XGB:  0.5789022298456261\n"
     ]
    }
   ],
   "source": [
    "y_test= df_test['label']\n",
    "# predicted \n",
    "y_pred = clf_XGB.predict(df_test['text'])\n",
    "\n",
    "report_xgb = metrics.classification_report(y_test, y_pred)\n",
    "\n",
    "accuracy = metrics.accuracy_score(y_test, y_pred)\n",
    "print(\"Accuracy XGB: \",accuracy)"
   ]
  },
  {
   "cell_type": "code",
   "execution_count": 52,
   "metadata": {},
   "outputs": [
    {
     "name": "stdout",
     "output_type": "stream",
     "text": [
      "Report Naive Bayes With Preprocessing without other label\n",
      "\n",
      "              precision    recall  f1-score   support\n",
      "\n",
      "      answer       0.72      0.53      0.61       821\n",
      "      header       0.00      0.00      0.00       122\n",
      "       other       0.80      0.01      0.03       312\n",
      "    question       0.58      0.92      0.71      1077\n",
      "\n",
      "    accuracy                           0.62      2332\n",
      "   macro avg       0.52      0.37      0.34      2332\n",
      "weighted avg       0.63      0.62      0.55      2332\n",
      "\n",
      "Report XGBoost With Preprocessing without other label\n",
      "\n",
      "              precision    recall  f1-score   support\n",
      "\n",
      "      answer       0.49      0.90      0.63       821\n",
      "      header       0.36      0.21      0.27       122\n",
      "       other       0.55      0.13      0.21       312\n",
      "    question       0.81      0.51      0.63      1077\n",
      "\n",
      "    accuracy                           0.58      2332\n",
      "   macro avg       0.55      0.44      0.43      2332\n",
      "weighted avg       0.64      0.58      0.55      2332\n",
      "\n"
     ]
    }
   ],
   "source": [
    "\n",
    "print(\"Report Naive Bayes With Preprocessing without other label\\n\")\n",
    "\n",
    "print(report_nb)\n",
    "\n",
    "print(\"Report XGBoost With Preprocessing without other label\\n\")\n",
    "\n",
    "print(report_xgb)"
   ]
  },
  {
   "cell_type": "markdown",
   "metadata": {},
   "source": [
    "# <a id='4'>4 Conclusion</a>"
   ]
  },
  {
   "cell_type": "markdown",
   "metadata": {},
   "source": [
    "I was able to train a model to detect whether is a answer or a question\n",
    "some performance testes needs to be done as it is now is not yet read to put into production\n",
    "Since the results are not that good on the test set."
   ]
  },
  {
   "cell_type": "code",
   "execution_count": null,
   "metadata": {},
   "outputs": [],
   "source": []
  }
 ],
 "metadata": {
  "kernelspec": {
   "display_name": "Python 3",
   "language": "python",
   "name": "python3"
  },
  "language_info": {
   "codemirror_mode": {
    "name": "ipython",
    "version": 3
   },
   "file_extension": ".py",
   "mimetype": "text/x-python",
   "name": "python",
   "nbconvert_exporter": "python",
   "pygments_lexer": "ipython3",
   "version": "3.8.5"
  }
 },
 "nbformat": 4,
 "nbformat_minor": 4
}
