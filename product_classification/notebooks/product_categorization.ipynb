{
 "cells": [
  {
   "cell_type": "markdown",
   "metadata": {},
   "source": [
    "# Product Category Classification"
   ]
  },
  {
   "cell_type": "code",
   "execution_count": 1,
   "metadata": {},
   "outputs": [],
   "source": [
    "import pandas as pd\n",
    "from sklearn.pipeline import Pipeline\n",
    "from sklearn.model_selection import train_test_split\n",
    "import sklearn.metrics as metrics"
   ]
  },
  {
   "cell_type": "markdown",
   "metadata": {},
   "source": [
    "## Summary\n",
    "- <a href='#1'>1. Data Loading</a>\n",
    "- <a href='#2'>1. Data Preprocessing</a>\n",
    "    - <a href='#2.1'>2.1.  Data Analysis</a>\n",
    "    - <a href='#2.2'>2.2.  Data Preprocessing</a>\n",
    "- <a href='#3'>3.  ML Approaches</a>\n",
    "    - <a href='#3.1'>3.1  Traditional Approach main_text column</a>\n",
    "    - <a href='#3.2'>3.2  Traditional Approach with add_text column</a>\n",
    "    - <a href='#3.3'>3.3  Traditional Approach with add_text and manufacturer columns</a>\n",
    "    - <a href='#3.4'>3.4  Traditional Approach with all text columns</a>\n",
    "- <a href='#4'>4. Model Export</a> \n",
    "- <a href='#5'>5. Conclusion</a>"
   ]
  },
  {
   "cell_type": "markdown",
   "metadata": {},
   "source": [
    "# <a id='1'>1. Data Loading</a>"
   ]
  },
  {
   "cell_type": "code",
   "execution_count": 2,
   "metadata": {},
   "outputs": [],
   "source": [
    "FILE_PATH = \"../../data/testset_C.csv\" # File Path where the training files are located"
   ]
  },
  {
   "cell_type": "code",
   "execution_count": 3,
   "metadata": {},
   "outputs": [],
   "source": [
    "df = pd.read_csv(FILE_PATH, sep=';')"
   ]
  },
  {
   "cell_type": "code",
   "execution_count": 4,
   "metadata": {},
   "outputs": [
    {
     "data": {
      "text/html": [
       "<div>\n",
       "<style scoped>\n",
       "    .dataframe tbody tr th:only-of-type {\n",
       "        vertical-align: middle;\n",
       "    }\n",
       "\n",
       "    .dataframe tbody tr th {\n",
       "        vertical-align: top;\n",
       "    }\n",
       "\n",
       "    .dataframe thead th {\n",
       "        text-align: right;\n",
       "    }\n",
       "</style>\n",
       "<table border=\"1\" class=\"dataframe\">\n",
       "  <thead>\n",
       "    <tr style=\"text-align: right;\">\n",
       "      <th></th>\n",
       "      <th>id</th>\n",
       "      <th>productgroup</th>\n",
       "      <th>main_text</th>\n",
       "      <th>add_text</th>\n",
       "      <th>manufacturer</th>\n",
       "    </tr>\n",
       "  </thead>\n",
       "  <tbody>\n",
       "    <tr>\n",
       "      <th>0</th>\n",
       "      <td>26229701</td>\n",
       "      <td>WASHINGMACHINES</td>\n",
       "      <td>WAQ284E25</td>\n",
       "      <td>WASCHMASCHINEN</td>\n",
       "      <td>BOSCH</td>\n",
       "    </tr>\n",
       "    <tr>\n",
       "      <th>1</th>\n",
       "      <td>16576864</td>\n",
       "      <td>USB MEMORY</td>\n",
       "      <td>LEEF IBRIDGE MOBILE SPEICHERERWEITERUNG FUER I...</td>\n",
       "      <td>PC__1100COMPUTINGMEMORY__1110MEMORYCARDS</td>\n",
       "      <td>LEEF</td>\n",
       "    </tr>\n",
       "    <tr>\n",
       "      <th>2</th>\n",
       "      <td>26155618</td>\n",
       "      <td>USB MEMORY</td>\n",
       "      <td>SANDISK 32GB ULTRA FIT USB 3.0</td>\n",
       "      <td>W1370</td>\n",
       "      <td>NaN</td>\n",
       "    </tr>\n",
       "    <tr>\n",
       "      <th>3</th>\n",
       "      <td>25646138</td>\n",
       "      <td>BICYCLES</td>\n",
       "      <td>HOLLANDRAD DAMEN 28 ZOLL TUSSAUD 3-GAENGE RH 5...</td>\n",
       "      <td>FAHRRAEDER // SPORTFAHRRAEDER</td>\n",
       "      <td>SCHALOW &amp; KROH GMBH</td>\n",
       "    </tr>\n",
       "    <tr>\n",
       "      <th>4</th>\n",
       "      <td>19764614</td>\n",
       "      <td>BICYCLES</td>\n",
       "      <td>DAHON SPEED D7 SCHWARZ ? FALTRAD</td>\n",
       "      <td>SPORTS__30000WHEELED__30070BIKES</td>\n",
       "      <td>DAHON</td>\n",
       "    </tr>\n",
       "    <tr>\n",
       "      <th>...</th>\n",
       "      <td>...</td>\n",
       "      <td>...</td>\n",
       "      <td>...</td>\n",
       "      <td>...</td>\n",
       "      <td>...</td>\n",
       "    </tr>\n",
       "    <tr>\n",
       "      <th>7995</th>\n",
       "      <td>61028716</td>\n",
       "      <td>BICYCLES</td>\n",
       "      <td>TOPSY KINDERRAD 12 1/2 POLARWEISS O O O  419640</td>\n",
       "      <td>H006W0792344__WERKZEUG_AUTO/FAHRRAD_FAHRRAEDER</td>\n",
       "      <td>SI-ZWEIRAD-VERTRIEBS GMBH</td>\n",
       "    </tr>\n",
       "    <tr>\n",
       "      <th>7996</th>\n",
       "      <td>37734138</td>\n",
       "      <td>BICYCLES</td>\n",
       "      <td>CREME ECHO SOLO 16-SPEED WHITE</td>\n",
       "      <td>FAHRRAEDER&gt;&gt;RENNRAEDER&gt;&gt;RENNRAEDER</td>\n",
       "      <td>CREME</td>\n",
       "    </tr>\n",
       "    <tr>\n",
       "      <th>7997</th>\n",
       "      <td>17891755</td>\n",
       "      <td>CONTACT LENSES</td>\n",
       "      <td>ACUVUE 1-DAY MOIST TAGESLINSEN WEICH, 30 STUEC...</td>\n",
       "      <td>HEALTH&amp;PERSONALCARE__3100OPTICS__3101SPHERICCO...</td>\n",
       "      <td>JOHNSON &amp; JOHNSON</td>\n",
       "    </tr>\n",
       "    <tr>\n",
       "      <th>7998</th>\n",
       "      <td>42298563</td>\n",
       "      <td>BICYCLES</td>\n",
       "      <td>UNIVEGA TERRENO 1.0 HE MATTBLAUGRAU 45 CM</td>\n",
       "      <td>1_7_4</td>\n",
       "      <td>UNIVEGA</td>\n",
       "    </tr>\n",
       "    <tr>\n",
       "      <th>7999</th>\n",
       "      <td>26300286</td>\n",
       "      <td>WASHINGMACHINES</td>\n",
       "      <td>LAVAMAT 63479 FL A+++ WASCHVOLLAUTOMAT</td>\n",
       "      <td>WASCHMASCHINEN</td>\n",
       "      <td>AEG</td>\n",
       "    </tr>\n",
       "  </tbody>\n",
       "</table>\n",
       "<p>8000 rows × 5 columns</p>\n",
       "</div>"
      ],
      "text/plain": [
       "            id     productgroup  \\\n",
       "0     26229701  WASHINGMACHINES   \n",
       "1     16576864       USB MEMORY   \n",
       "2     26155618       USB MEMORY   \n",
       "3     25646138         BICYCLES   \n",
       "4     19764614         BICYCLES   \n",
       "...        ...              ...   \n",
       "7995  61028716         BICYCLES   \n",
       "7996  37734138         BICYCLES   \n",
       "7997  17891755   CONTACT LENSES   \n",
       "7998  42298563         BICYCLES   \n",
       "7999  26300286  WASHINGMACHINES   \n",
       "\n",
       "                                              main_text  \\\n",
       "0                                             WAQ284E25   \n",
       "1     LEEF IBRIDGE MOBILE SPEICHERERWEITERUNG FUER I...   \n",
       "2                        SANDISK 32GB ULTRA FIT USB 3.0   \n",
       "3     HOLLANDRAD DAMEN 28 ZOLL TUSSAUD 3-GAENGE RH 5...   \n",
       "4                      DAHON SPEED D7 SCHWARZ ? FALTRAD   \n",
       "...                                                 ...   \n",
       "7995    TOPSY KINDERRAD 12 1/2 POLARWEISS O O O  419640   \n",
       "7996                     CREME ECHO SOLO 16-SPEED WHITE   \n",
       "7997  ACUVUE 1-DAY MOIST TAGESLINSEN WEICH, 30 STUEC...   \n",
       "7998          UNIVEGA TERRENO 1.0 HE MATTBLAUGRAU 45 CM   \n",
       "7999             LAVAMAT 63479 FL A+++ WASCHVOLLAUTOMAT   \n",
       "\n",
       "                                               add_text  \\\n",
       "0                                        WASCHMASCHINEN   \n",
       "1              PC__1100COMPUTINGMEMORY__1110MEMORYCARDS   \n",
       "2                                                 W1370   \n",
       "3                         FAHRRAEDER // SPORTFAHRRAEDER   \n",
       "4                      SPORTS__30000WHEELED__30070BIKES   \n",
       "...                                                 ...   \n",
       "7995     H006W0792344__WERKZEUG_AUTO/FAHRRAD_FAHRRAEDER   \n",
       "7996                 FAHRRAEDER>>RENNRAEDER>>RENNRAEDER   \n",
       "7997  HEALTH&PERSONALCARE__3100OPTICS__3101SPHERICCO...   \n",
       "7998                                              1_7_4   \n",
       "7999                                     WASCHMASCHINEN   \n",
       "\n",
       "                   manufacturer  \n",
       "0                         BOSCH  \n",
       "1                          LEEF  \n",
       "2                           NaN  \n",
       "3           SCHALOW & KROH GMBH  \n",
       "4                         DAHON  \n",
       "...                         ...  \n",
       "7995  SI-ZWEIRAD-VERTRIEBS GMBH  \n",
       "7996                      CREME  \n",
       "7997          JOHNSON & JOHNSON  \n",
       "7998                    UNIVEGA  \n",
       "7999                        AEG  \n",
       "\n",
       "[8000 rows x 5 columns]"
      ]
     },
     "execution_count": 4,
     "metadata": {},
     "output_type": "execute_result"
    }
   ],
   "source": [
    "df"
   ]
  },
  {
   "cell_type": "code",
   "execution_count": 5,
   "metadata": {},
   "outputs": [
    {
     "name": "stdout",
     "output_type": "stream",
     "text": [
      "<class 'pandas.core.frame.DataFrame'>\n",
      "RangeIndex: 8000 entries, 0 to 7999\n",
      "Data columns (total 5 columns):\n",
      " #   Column        Non-Null Count  Dtype \n",
      "---  ------        --------------  ----- \n",
      " 0   id            8000 non-null   int64 \n",
      " 1   productgroup  8000 non-null   object\n",
      " 2   main_text     7998 non-null   object\n",
      " 3   add_text      8000 non-null   object\n",
      " 4   manufacturer  6656 non-null   object\n",
      "dtypes: int64(1), object(4)\n",
      "memory usage: 312.6+ KB\n"
     ]
    }
   ],
   "source": [
    "df.info()"
   ]
  },
  {
   "cell_type": "markdown",
   "metadata": {},
   "source": [
    "# <a id='2'>2. Data Preprocessing</a>"
   ]
  },
  {
   "cell_type": "markdown",
   "metadata": {},
   "source": [
    "## <a id='2'>2.1.  Data Analysis</a>"
   ]
  },
  {
   "cell_type": "code",
   "execution_count": 6,
   "metadata": {},
   "outputs": [
    {
     "name": "stdout",
     "output_type": "stream",
     "text": [
      "<class 'pandas.core.frame.DataFrame'>\n",
      "RangeIndex: 8000 entries, 0 to 7999\n",
      "Data columns (total 5 columns):\n",
      " #   Column        Non-Null Count  Dtype \n",
      "---  ------        --------------  ----- \n",
      " 0   id            8000 non-null   int64 \n",
      " 1   productgroup  8000 non-null   object\n",
      " 2   main_text     7998 non-null   object\n",
      " 3   add_text      8000 non-null   object\n",
      " 4   manufacturer  6656 non-null   object\n",
      "dtypes: int64(1), object(4)\n",
      "memory usage: 312.6+ KB\n"
     ]
    }
   ],
   "source": [
    "df.info()"
   ]
  },
  {
   "cell_type": "code",
   "execution_count": 7,
   "metadata": {},
   "outputs": [
    {
     "data": {
      "text/html": [
       "<div>\n",
       "<style scoped>\n",
       "    .dataframe tbody tr th:only-of-type {\n",
       "        vertical-align: middle;\n",
       "    }\n",
       "\n",
       "    .dataframe tbody tr th {\n",
       "        vertical-align: top;\n",
       "    }\n",
       "\n",
       "    .dataframe thead th {\n",
       "        text-align: right;\n",
       "    }\n",
       "</style>\n",
       "<table border=\"1\" class=\"dataframe\">\n",
       "  <thead>\n",
       "    <tr style=\"text-align: right;\">\n",
       "      <th></th>\n",
       "      <th>id</th>\n",
       "      <th>productgroup</th>\n",
       "      <th>main_text</th>\n",
       "      <th>add_text</th>\n",
       "      <th>manufacturer</th>\n",
       "    </tr>\n",
       "  </thead>\n",
       "  <tbody>\n",
       "    <tr>\n",
       "      <th>0</th>\n",
       "      <td>26229701</td>\n",
       "      <td>WASHINGMACHINES</td>\n",
       "      <td>WAQ284E25</td>\n",
       "      <td>WASCHMASCHINEN</td>\n",
       "      <td>BOSCH</td>\n",
       "    </tr>\n",
       "    <tr>\n",
       "      <th>1</th>\n",
       "      <td>16576864</td>\n",
       "      <td>USB MEMORY</td>\n",
       "      <td>LEEF IBRIDGE MOBILE SPEICHERERWEITERUNG FUER I...</td>\n",
       "      <td>PC__1100COMPUTINGMEMORY__1110MEMORYCARDS</td>\n",
       "      <td>LEEF</td>\n",
       "    </tr>\n",
       "  </tbody>\n",
       "</table>\n",
       "</div>"
      ],
      "text/plain": [
       "         id     productgroup  \\\n",
       "0  26229701  WASHINGMACHINES   \n",
       "1  16576864       USB MEMORY   \n",
       "\n",
       "                                           main_text  \\\n",
       "0                                          WAQ284E25   \n",
       "1  LEEF IBRIDGE MOBILE SPEICHERERWEITERUNG FUER I...   \n",
       "\n",
       "                                   add_text manufacturer  \n",
       "0                            WASCHMASCHINEN        BOSCH  \n",
       "1  PC__1100COMPUTINGMEMORY__1110MEMORYCARDS         LEEF  "
      ]
     },
     "execution_count": 7,
     "metadata": {},
     "output_type": "execute_result"
    }
   ],
   "source": [
    "df.head(2)"
   ]
  },
  {
   "cell_type": "code",
   "execution_count": 8,
   "metadata": {},
   "outputs": [
    {
     "name": "stdout",
     "output_type": "stream",
     "text": [
      "BICYCLES           2000\n",
      "WASHINGMACHINES    2000\n",
      "USB MEMORY         2000\n",
      "CONTACT LENSES     2000\n",
      "Name: productgroup, dtype: int64\n"
     ]
    },
    {
     "data": {
      "text/plain": [
       "<AxesSubplot:>"
      ]
     },
     "execution_count": 8,
     "metadata": {},
     "output_type": "execute_result"
    },
    {
     "data": {
      "image/png": "[encoded data removed]",
      "text/plain": [
       "<Figure size 432x288 with 1 Axes>"
      ]
     },
     "metadata": {
      "needs_background": "light"
     },
     "output_type": "display_data"
    }
   ],
   "source": [
    "print(df.productgroup.value_counts())\n",
    "df.productgroup.value_counts().plot(kind='bar')"
   ]
  },
  {
   "cell_type": "code",
   "execution_count": 9,
   "metadata": {},
   "outputs": [
    {
     "name": "stdout",
     "output_type": "stream",
     "text": [
      "/                  1700\n",
      "USB                1307\n",
      "STÜCKUNISEX        1065\n",
      "CM                  618\n",
      "USB-STICK           525\n",
      "                   ... \n",
      "RT,                   1\n",
      "BLUE'N'FLASHRED       1\n",
      "7012                  1\n",
      "WM14E197              1\n",
      "(STICK)               1\n",
      "Length: 9803, dtype: int64\n"
     ]
    },
    {
     "data": {
      "text/plain": [
       "<AxesSubplot:>"
      ]
     },
     "execution_count": 9,
     "metadata": {},
     "output_type": "execute_result"
    },
    {
     "data": {
      "image/png": "[encoded data removed]",
      "text/plain": [
       "<Figure size 720x720 with 1 Axes>"
      ]
     },
     "metadata": {
      "needs_background": "light"
     },
     "output_type": "display_data"
    }
   ],
   "source": [
    "print(df.main_text.str.split(expand=True).stack().value_counts())\n",
    "\n",
    "df.main_text.str.split(expand=True).stack().value_counts()[0:50].plot(kind='bar',figsize=(10,10))\n",
    "\n",
    "# We have 8319 different words for our training set as we can see the words that are more common to appear is \n",
    "#prepositions \"the, of, and so on \""
   ]
  },
  {
   "cell_type": "code",
   "execution_count": 10,
   "metadata": {},
   "outputs": [
    {
     "name": "stdout",
     "output_type": "stream",
     "text": [
      "WASCHVOLLAUTOMAT OMV510A+ OMV510A+|| EEK:A+, 1000 U/MIN, 5KG KAPAZITAET  5043487                                                                                        85\n",
      "PROCLEAR TORIC6 STÜCKUNISEX                                                                                                                                             75\n",
      "AIR OPTIX FOR ASTIGM.6 STÜCKUNISEX                                                                                                                                      74\n",
      "BIOFINITY TORIC 6ER BOX6 STÜCKUNISEX                                                                                                                                    71\n",
      "SOFLENS TORIC6 STÜCKUNISEX                                                                                                                                              68\n",
      "                                                                                                                                                                        ..\n",
      "8GB PETITEKEY 8GB/USB2.0                                                                                                                                                 1\n",
      "INTEGRAL USB-STICK INFD16GBNEONB 16GB 2016, S. 70  • USB-STICKS IM TRENDIGEN NEON DESIGN • LESEGESCHWINDIGKEIT: 12 MB/SEC. • SCHREIBGESCHW  PCK:000 PEH:1 MEH:STUECK     1\n",
      "ACUVUE OASYS 2-WOCHENLINSEN WEICH, 6 STUECK / BC 8.8 MM / DIA 14.0 / -3.25 DIOPTRIEN                                                                                     1\n",
      "110 HGG WAM BEKO WML 61633 EU WEIÃŸ# SCHNÃ¤PPCHEN                                                                                                                        1\n",
      "WAW285EURO A+++ / 9KG                                                                                                                                                    1\n",
      "Name: main_text, Length: 6643, dtype: int64\n"
     ]
    },
    {
     "data": {
      "text/plain": [
       "<AxesSubplot:>"
      ]
     },
     "execution_count": 10,
     "metadata": {},
     "output_type": "execute_result"
    },
    {
     "data": {
      "image/png": "[encoded data removed]",
      "text/plain": [
       "<Figure size 720x720 with 1 Axes>"
      ]
     },
     "metadata": {
      "needs_background": "light"
     },
     "output_type": "display_data"
    }
   ],
   "source": [
    "print(df.main_text.value_counts())\n",
    "df.main_text.value_counts()[0:50].plot(kind='bar',figsize=(10,10))"
   ]
  },
  {
   "cell_type": "code",
   "execution_count": 11,
   "metadata": {},
   "outputs": [
    {
     "name": "stdout",
     "output_type": "stream",
     "text": [
      "Max number of words inside a text =  214.0\n",
      "Mean number of words =  7.4533633408352085\n"
     ]
    }
   ],
   "source": [
    "length_of_the_messages = df[\"main_text\"].str.split()\n",
    "print(\"Max number of words inside a text = \", length_of_the_messages.str.len().max())\n",
    "print(\"Mean number of words = \", length_of_the_messages.str.len().mean())\n",
    "\n",
    "# the mean number of words inside a text is about 3 words and the max text found has 102 words"
   ]
  },
  {
   "cell_type": "code",
   "execution_count": 12,
   "metadata": {},
   "outputs": [
    {
     "data": {
      "text/plain": [
       "WASCHVOLLAUTOMAT OMV510A+ OMV510A+|| EEK:A+, 1000 U/MIN, 5KG KAPAZITAET  5043487                                                                                                                                     85\n",
       "WASCHVOLLAUTOMAT WAB28270|| EEK:A+++,1400U/MIN,6KG BELADUNG  5045129                                                                                                                                                 18\n",
       "WASCHVOLLAUTOMAT WML15106MNE+|| EEK:A+, 15 PROGR., 5KG, 1000U/MIN  5049998                                                                                                                                           16\n",
       "WAB28270Waschmaschine Bosch  ||BHT  59 x 84 x 55  ||WAB28270  ||Effizienzklassen A+++/B, Max. ||menge 6 kg, max. Schleuderdreh||1400 U/min, Verbrauchswerte/Ja||Programmmix: 10560 Liter Wasse||153 kWh Strom  ||    13\n",
       "WASCHVOLLAUTOMAT WM14B222IQ|| EEK:A+++, 6KG BELADUNG,1400 U  5045126                                                                                                                                                  8\n",
       "                                                                                                                                                                                                                     ..\n",
       "HGG WAM BEKO WML 51231 E WEIß                                                                                                                                                                                         1\n",
       "WMY 71443 PTLE                                                                                                                                                                                                        1\n",
       "WKH 122 WPS  LOTOSWEISS WASCHMASCHINEN (STAND) 11KH1223D / 10521300                                                                                                                                                   1\n",
       "SAMSUNG WW60J3283LW1EG WW300 SLIM WASCHMASCHINE SLIM 6 KG A++                                                                                                                                                         1\n",
       "HGG WAM GORENJE W 8543 TR ROT                                                                                                                                                                                         1\n",
       "Name: main_text, Length: 1794, dtype: int64"
      ]
     },
     "execution_count": 12,
     "metadata": {},
     "output_type": "execute_result"
    }
   ],
   "source": [
    "df[df.productgroup == \"WASHINGMACHINES\"].main_text.value_counts()"
   ]
  },
  {
   "cell_type": "code",
   "execution_count": 13,
   "metadata": {},
   "outputs": [
    {
     "data": {
      "text/plain": [
       "FIXIE INC. FLOATER GREEN                                      5\n",
       "FIXIE INC. FLOATER PINK                                       5\n",
       "CUBE ACID BLACK'N'FLASHYELLOW                                 3\n",
       "SERIOUS ROCKVILLE 26 BLACK/GREEN                              3\n",
       "2. WAHL VERMONT KINARA HERREN SCHWARZ MATT                    3\n",
       "                                                             ..\n",
       "BICYCLES LISSABON HERREN MATTBLAU 60 CM                       1\n",
       "HOLLANDRAD BULEVA SCHWARZ-ROT 50 CM                           1\n",
       "UNIVEGA TERRENO 5.0 XXL ROYALBLUEMATT 55 CM                   1\n",
       "ORBEA ORDU M15 SPECIAL EDITION CARB/WHITE                     1\n",
       "CORRATEC X-VERT S 650B 0.4 27,5 BLACK MATT/BLUE/LIME GREEN    1\n",
       "Name: main_text, Length: 1911, dtype: int64"
      ]
     },
     "execution_count": 13,
     "metadata": {},
     "output_type": "execute_result"
    }
   ],
   "source": [
    "df[df.productgroup == \"BICYCLES\"].main_text.value_counts()"
   ]
  },
  {
   "cell_type": "code",
   "execution_count": 14,
   "metadata": {},
   "outputs": [
    {
     "data": {
      "text/plain": [
       "VERBATIM STORE N GO PINSTRIPE                                  5\n",
       "VERBATIM STORE N GO V3                                         4\n",
       "LEXAR JUMPDRIVE USB 3.0 32GB                                   3\n",
       "SONY MICRO VAULT USM-X 8GB                                     3\n",
       "VERBATIM MINI METAL                                            3\n",
       "                                                              ..\n",
       "TRANSCEND 64GB JETFLASH 710SILVERUS                            1\n",
       "USB 3.0 STICK 16GB, ULTRA FIT                                  1\n",
       "LEEF  SUPRA USB 3.0 32GB LS300SX032E4U                         1\n",
       "3330079032  TRANSCEND JETFLASH 790K 32GB USB 3.0               1\n",
       "USB-STICK  16GB SILICON POWER  C80  3.0 SILVER TYPE-C READY    1\n",
       "Name: main_text, Length: 1944, dtype: int64"
      ]
     },
     "execution_count": 14,
     "metadata": {},
     "output_type": "execute_result"
    }
   ],
   "source": [
    "df[(df.productgroup == \"USB MEMORY\") ].main_text.value_counts()"
   ]
  },
  {
   "cell_type": "code",
   "execution_count": 15,
   "metadata": {},
   "outputs": [
    {
     "data": {
      "text/plain": [
       "PROCLEAR TORIC6 STÜCKUNISEX                                                                          75\n",
       "AIR OPTIX FOR ASTIGM.6 STÜCKUNISEX                                                                   74\n",
       "BIOFINITY TORIC 6ER BOX6 STÜCKUNISEX                                                                 71\n",
       "SOFLENS TORIC6 STÜCKUNISEX                                                                           68\n",
       "BIOFINITY TORIC 3ER BOX3 STÜCKUNISEX                                                                 65\n",
       "                                                                                                     ..\n",
       "CONTACTLINSEN HEINRICH WÖHLK CONTACTLINSEN CONTACT INDIVIDUAL SH TDS                                  1\n",
       "FRESHLOOK COLOR BLENDS  1 MONTH  PACK:4                                                               1\n",
       "DYN. KERATO TORIC                                                                                     1\n",
       "CONTACTLINSEN BAUSCH+LOMB BIOTRUE ONEDAY 30ER BOX                                                     1\n",
       "AIR OPTIX NIGHT & DAY AQUA MONATSLINSEN WEICH, 3 STUECK / BC 8,4MM / DIA 13,8MM / +1,75 DIOPTRIEN     1\n",
       "Name: main_text, Length: 994, dtype: int64"
      ]
     },
     "execution_count": 15,
     "metadata": {},
     "output_type": "execute_result"
    }
   ],
   "source": [
    "df[(df.productgroup == \"CONTACT LENSES\")].main_text.value_counts()"
   ]
  },
  {
   "cell_type": "markdown",
   "metadata": {},
   "source": [
    "## <a id='2.2'>2.2.  Data Preparation/preprocessing</a>"
   ]
  },
  {
   "cell_type": "code",
   "execution_count": 16,
   "metadata": {},
   "outputs": [
    {
     "data": {
      "text/plain": [
       "8000"
      ]
     },
     "execution_count": 16,
     "metadata": {},
     "output_type": "execute_result"
    }
   ],
   "source": [
    "len(df)"
   ]
  },
  {
   "cell_type": "code",
   "execution_count": 17,
   "metadata": {},
   "outputs": [],
   "source": [
    "# drop rows with only two character and that doesn't add anything to the model \n",
    "df_train_preprocessing = df[( df[\"main_text\"].str.len() > 1 )] "
   ]
  },
  {
   "cell_type": "code",
   "execution_count": 18,
   "metadata": {},
   "outputs": [
    {
     "data": {
      "text/plain": [
       "BICYCLES           2000\n",
       "CONTACT LENSES     2000\n",
       "WASHINGMACHINES    1999\n",
       "USB MEMORY         1999\n",
       "Name: productgroup, dtype: int64"
      ]
     },
     "execution_count": 18,
     "metadata": {},
     "output_type": "execute_result"
    }
   ],
   "source": [
    "df_train_preprocessing.productgroup.value_counts()"
   ]
  },
  {
   "cell_type": "code",
   "execution_count": 19,
   "metadata": {},
   "outputs": [
    {
     "data": {
      "text/plain": [
       "7998"
      ]
     },
     "execution_count": 19,
     "metadata": {},
     "output_type": "execute_result"
    }
   ],
   "source": [
    "len(df_train_preprocessing)"
   ]
  },
  {
   "cell_type": "code",
   "execution_count": 20,
   "metadata": {},
   "outputs": [],
   "source": [
    "df_train_preprocessing = df_train_preprocessing.drop('id', axis=1)"
   ]
  },
  {
   "cell_type": "code",
   "execution_count": 21,
   "metadata": {},
   "outputs": [
    {
     "data": {
      "text/plain": [
       "BICYCLES           2000\n",
       "CONTACT LENSES     2000\n",
       "WASHINGMACHINES    1999\n",
       "USB MEMORY         1999\n",
       "Name: productgroup, dtype: int64"
      ]
     },
     "execution_count": 21,
     "metadata": {},
     "output_type": "execute_result"
    }
   ],
   "source": [
    "df_train_preprocessing.productgroup.value_counts()"
   ]
  },
  {
   "cell_type": "code",
   "execution_count": 22,
   "metadata": {},
   "outputs": [],
   "source": [
    "df_train_preprocessing.loc[:,'main_text'] = df_train_preprocessing.main_text.astype('str')\n",
    "df_train_preprocessing.loc[:,'add_text'] = df_train_preprocessing.add_text.astype('str')\n",
    "df_train_preprocessing.loc[:,'manufacturer'] = df_train_preprocessing.manufacturer.astype('str')"
   ]
  },
  {
   "cell_type": "code",
   "execution_count": 23,
   "metadata": {},
   "outputs": [],
   "source": [
    "df_train_preprocessing['all_text'] = df_train_preprocessing['main_text']+ ' ' +df_train_preprocessing['add_text'] + ' ' + df_train_preprocessing['manufacturer']"
   ]
  },
  {
   "cell_type": "code",
   "execution_count": 24,
   "metadata": {},
   "outputs": [
    {
     "data": {
      "text/plain": [
       "0                          WAQ284E25 WASCHMASCHINEN BOSCH\n",
       "1       LEEF IBRIDGE MOBILE SPEICHERERWEITERUNG FUER I...\n",
       "2                SANDISK 32GB ULTRA FIT USB 3.0 W1370 nan\n",
       "3       HOLLANDRAD DAMEN 28 ZOLL TUSSAUD 3-GAENGE RH 5...\n",
       "4       DAHON SPEED D7 SCHWARZ ? FALTRAD SPORTS__30000...\n",
       "                              ...                        \n",
       "7995    TOPSY KINDERRAD 12 1/2 POLARWEISS O O O  41964...\n",
       "7996    CREME ECHO SOLO 16-SPEED WHITE FAHRRAEDER>>REN...\n",
       "7997    ACUVUE 1-DAY MOIST TAGESLINSEN WEICH, 30 STUEC...\n",
       "7998    UNIVEGA TERRENO 1.0 HE MATTBLAUGRAU 45 CM 1_7_...\n",
       "7999    LAVAMAT 63479 FL A+++ WASCHVOLLAUTOMAT WASCHMA...\n",
       "Name: all_text, Length: 7998, dtype: object"
      ]
     },
     "execution_count": 24,
     "metadata": {},
     "output_type": "execute_result"
    }
   ],
   "source": [
    "df_train_preprocessing['all_text']"
   ]
  },
  {
   "cell_type": "markdown",
   "metadata": {},
   "source": [
    "## <a id='3'>3  ML Approaches</a>\n",
    "\n",
    "I will focus on testing a Traditional approach vs a Deep learning approach"
   ]
  },
  {
   "cell_type": "code",
   "execution_count": 25,
   "metadata": {},
   "outputs": [],
   "source": [
    "from sklearn.naive_bayes import MultinomialNB\n",
    "from sklearn.feature_extraction.text import TfidfVectorizer\n",
    "from xgboost import XGBClassifier"
   ]
  },
  {
   "cell_type": "code",
   "execution_count": 26,
   "metadata": {},
   "outputs": [],
   "source": [
    "# get the params\n",
    "tfidf_params = dict(sublinear_tf= True, \n",
    "                       min_df = 1, \n",
    "                       norm= 'l2',\n",
    "                       ngram_range= (1,2), \n",
    "                       stop_words ='english')"
   ]
  },
  {
   "cell_type": "code",
   "execution_count": 27,
   "metadata": {},
   "outputs": [],
   "source": [
    "# create a Pipeline that will do features transformation then pass to the model for all training\n",
    "clf_NB = Pipeline(steps=[\n",
    "('features', TfidfVectorizer(**tfidf_params)),\n",
    "('model', MultinomialNB())\n",
    "])\n",
    "\n",
    "clf_XGB = Pipeline(steps=[\n",
    "('features', TfidfVectorizer(**tfidf_params)),\n",
    "('model', XGBClassifier())\n",
    "])"
   ]
  },
  {
   "cell_type": "markdown",
   "metadata": {},
   "source": [
    "## <a id='3.1'>3.1  Traditional Approach with main_text</a>"
   ]
  },
  {
   "cell_type": "code",
   "execution_count": 28,
   "metadata": {},
   "outputs": [
    {
     "name": "stdout",
     "output_type": "stream",
     "text": [
      "Accuracy NB:  0.985\n"
     ]
    }
   ],
   "source": [
    "\n",
    "X_train, X_test, y_train, y_test = train_test_split(df_train_preprocessing['main_text'], \n",
    "                                                    df_train_preprocessing['productgroup'],\n",
    "                                                    stratify=df_train_preprocessing['productgroup'], \n",
    "                                                    test_size=0.10)\n",
    "\n",
    "# Use clf as a model, fit X_train and y_train\n",
    "clf_NB.fit(X_train, y_train)\n",
    "\n",
    "# predicted \n",
    "y_pred = clf_NB.predict(X_test)\n",
    "\n",
    "report_nb_nopreprocessing = metrics.classification_report(y_test, y_pred)\n",
    "\n",
    "accuracy = metrics.accuracy_score(y_test, y_pred)\n",
    "print(\"Accuracy NB: \",accuracy)"
   ]
  },
  {
   "cell_type": "code",
   "execution_count": 29,
   "metadata": {},
   "outputs": [
    {
     "name": "stdout",
     "output_type": "stream",
     "text": [
      "Accuracy XGB:  0.97375\n"
     ]
    }
   ],
   "source": [
    "# Use xgb as a model, fit X_train and y_train\n",
    "clf_XGB.fit(X_train, y_train)\n",
    "\n",
    "# predicted \n",
    "y_pred = clf_XGB.predict(X_test)\n",
    "\n",
    "report_xgb_nopreprocessing = metrics.classification_report(y_test, y_pred)\n",
    "\n",
    "accuracy = metrics.accuracy_score(y_test, y_pred)\n",
    "print(\"Accuracy XGB: \",accuracy)"
   ]
  },
  {
   "cell_type": "markdown",
   "metadata": {},
   "source": [
    "### Results"
   ]
  },
  {
   "cell_type": "code",
   "execution_count": 30,
   "metadata": {},
   "outputs": [
    {
     "name": "stdout",
     "output_type": "stream",
     "text": [
      "                 precision    recall  f1-score   support\n",
      "\n",
      "       BICYCLES       0.95      1.00      0.98       200\n",
      " CONTACT LENSES       1.00      1.00      1.00       200\n",
      "     USB MEMORY       0.99      0.98      0.99       200\n",
      "WASHINGMACHINES       0.99      0.96      0.98       200\n",
      "\n",
      "       accuracy                           0.98       800\n",
      "      macro avg       0.99      0.98      0.99       800\n",
      "   weighted avg       0.99      0.98      0.99       800\n",
      "\n",
      "\n",
      "\n",
      "                 precision    recall  f1-score   support\n",
      "\n",
      "       BICYCLES       1.00      0.97      0.98       200\n",
      " CONTACT LENSES       1.00      0.96      0.98       200\n",
      "     USB MEMORY       1.00      0.96      0.98       200\n",
      "WASHINGMACHINES       0.90      1.00      0.95       200\n",
      "\n",
      "       accuracy                           0.97       800\n",
      "      macro avg       0.98      0.97      0.97       800\n",
      "   weighted avg       0.98      0.97      0.97       800\n",
      "\n"
     ]
    }
   ],
   "source": [
    "print(report_nb_nopreprocessing)\n",
    "print(\"\\n\")\n",
    "print(report_xgb_nopreprocessing)"
   ]
  },
  {
   "cell_type": "markdown",
   "metadata": {},
   "source": [
    "## <a id='3.2'>3.2 Traditional Approach with add_text column</a>\n",
    "\n"
   ]
  },
  {
   "cell_type": "code",
   "execution_count": 31,
   "metadata": {},
   "outputs": [],
   "source": [
    "X_train, X_test, y_train, y_test = train_test_split(df_train_preprocessing['add_text'], \n",
    "                                                    df_train_preprocessing[['productgroup']],\n",
    "                                                    stratify=df_train_preprocessing['productgroup'], \n",
    "                                                    test_size=0.20)\n"
   ]
  },
  {
   "cell_type": "code",
   "execution_count": 32,
   "metadata": {},
   "outputs": [
    {
     "name": "stdout",
     "output_type": "stream",
     "text": [
      "Accuracy NB:  0.954375\n"
     ]
    },
    {
     "name": "stderr",
     "output_type": "stream",
     "text": [
      "/usr/local/lib/python3.8/site-packages/sklearn/utils/validation.py:72: DataConversionWarning: A column-vector y was passed when a 1d array was expected. Please change the shape of y to (n_samples, ), for example using ravel().\n",
      "  return f(**kwargs)\n"
     ]
    }
   ],
   "source": [
    "# Use clf as a model, fit X_train and y_train\n",
    "clf_NB.fit(X_train, y_train)\n",
    "\n",
    "# predicted \n",
    "y_pred = clf_NB.predict(X_test)\n",
    "\n",
    "report_nb_nopreprocessing = metrics.classification_report(y_test, y_pred)\n",
    "\n",
    "accuracy = metrics.accuracy_score(y_test, y_pred)\n",
    "print(\"Accuracy NB: \",accuracy)"
   ]
  },
  {
   "cell_type": "code",
   "execution_count": 33,
   "metadata": {},
   "outputs": [
    {
     "name": "stderr",
     "output_type": "stream",
     "text": [
      "/usr/local/lib/python3.8/site-packages/sklearn/utils/validation.py:72: DataConversionWarning: A column-vector y was passed when a 1d array was expected. Please change the shape of y to (n_samples, ), for example using ravel().\n",
      "  return f(**kwargs)\n"
     ]
    },
    {
     "name": "stdout",
     "output_type": "stream",
     "text": [
      "Accuracy XGB:  0.911875\n"
     ]
    }
   ],
   "source": [
    "# Use clf as a model, fit X_train and y_train\n",
    "clf_XGB.fit(X_train, y_train)\n",
    "\n",
    "# predicted \n",
    "y_pred = clf_XGB.predict(X_test)\n",
    "\n",
    "report_xgb_nopreprocessing = metrics.classification_report(y_test, y_pred)\n",
    "\n",
    "accuracy = metrics.accuracy_score(y_test, y_pred)\n",
    "print(\"Accuracy XGB: \",accuracy)"
   ]
  },
  {
   "cell_type": "markdown",
   "metadata": {},
   "source": [
    "###  Results"
   ]
  },
  {
   "cell_type": "code",
   "execution_count": 34,
   "metadata": {},
   "outputs": [
    {
     "name": "stdout",
     "output_type": "stream",
     "text": [
      "Report Naive Bayes With Preprocessing\n",
      "\n",
      "                 precision    recall  f1-score   support\n",
      "\n",
      "       BICYCLES       0.92      0.99      0.95       400\n",
      " CONTACT LENSES       1.00      0.94      0.97       400\n",
      "     USB MEMORY       0.99      0.91      0.95       400\n",
      "WASHINGMACHINES       0.92      0.97      0.95       400\n",
      "\n",
      "       accuracy                           0.95      1600\n",
      "      macro avg       0.96      0.95      0.95      1600\n",
      "   weighted avg       0.96      0.95      0.95      1600\n",
      "\n",
      "Report XGBoost With Preprocessing\n",
      "\n",
      "                 precision    recall  f1-score   support\n",
      "\n",
      "       BICYCLES       1.00      0.88      0.94       400\n",
      " CONTACT LENSES       1.00      0.93      0.96       400\n",
      "     USB MEMORY       0.99      0.84      0.91       400\n",
      "WASHINGMACHINES       0.74      1.00      0.85       400\n",
      "\n",
      "       accuracy                           0.91      1600\n",
      "      macro avg       0.93      0.91      0.92      1600\n",
      "   weighted avg       0.93      0.91      0.92      1600\n",
      "\n"
     ]
    }
   ],
   "source": [
    "print(\"Report Naive Bayes With Preprocessing\\n\")\n",
    "\n",
    "print(report_nb_nopreprocessing)\n",
    "\n",
    "print(\"Report XGBoost With Preprocessing\\n\")\n",
    "\n",
    "print(report_xgb_nopreprocessing)"
   ]
  },
  {
   "cell_type": "markdown",
   "metadata": {},
   "source": [
    "## <a id='3.3'>3.3 Traditional Approach with add_text and manufacturer column</a>"
   ]
  },
  {
   "cell_type": "code",
   "execution_count": 35,
   "metadata": {},
   "outputs": [],
   "source": [
    "X_train, X_test, y_train, y_test = train_test_split(df_train_preprocessing['manufacturer'], \n",
    "                                                    df_train_preprocessing[['productgroup']],\n",
    "                                                    stratify=df_train_preprocessing['productgroup'], \n",
    "                                                    test_size=0.20)\n"
   ]
  },
  {
   "cell_type": "code",
   "execution_count": 36,
   "metadata": {},
   "outputs": [
    {
     "name": "stdout",
     "output_type": "stream",
     "text": [
      "Accuracy NB:  0.818125\n"
     ]
    },
    {
     "name": "stderr",
     "output_type": "stream",
     "text": [
      "/usr/local/lib/python3.8/site-packages/sklearn/utils/validation.py:72: DataConversionWarning: A column-vector y was passed when a 1d array was expected. Please change the shape of y to (n_samples, ), for example using ravel().\n",
      "  return f(**kwargs)\n"
     ]
    }
   ],
   "source": [
    "# Use clf as a model, fit X_train and y_train\n",
    "clf_NB.fit(X_train, y_train)\n",
    "\n",
    "# predicted \n",
    "y_pred = clf_NB.predict(X_test)\n",
    "\n",
    "report_nb_nopreprocessing = metrics.classification_report(y_test, y_pred)\n",
    "\n",
    "accuracy = metrics.accuracy_score(y_test, y_pred)\n",
    "print(\"Accuracy NB: \",accuracy)"
   ]
  },
  {
   "cell_type": "code",
   "execution_count": 37,
   "metadata": {},
   "outputs": [
    {
     "name": "stderr",
     "output_type": "stream",
     "text": [
      "/usr/local/lib/python3.8/site-packages/sklearn/utils/validation.py:72: DataConversionWarning: A column-vector y was passed when a 1d array was expected. Please change the shape of y to (n_samples, ), for example using ravel().\n",
      "  return f(**kwargs)\n"
     ]
    },
    {
     "name": "stdout",
     "output_type": "stream",
     "text": [
      "Accuracy XGB:  0.838125\n"
     ]
    }
   ],
   "source": [
    "# Use clf as a model, fit X_train and y_train\n",
    "clf_XGB.fit(X_train, y_train)\n",
    "\n",
    "# predicted \n",
    "y_pred = clf_XGB.predict(X_test)\n",
    "\n",
    "report_xgb_nopreprocessing = metrics.classification_report(y_test, y_pred)\n",
    "\n",
    "accuracy = metrics.accuracy_score(y_test, y_pred)\n",
    "print(\"Accuracy XGB: \", accuracy)"
   ]
  },
  {
   "cell_type": "code",
   "execution_count": 38,
   "metadata": {},
   "outputs": [
    {
     "name": "stdout",
     "output_type": "stream",
     "text": [
      "Report Naive Bayes With Preprocessing without other label\n",
      "\n",
      "                 precision    recall  f1-score   support\n",
      "\n",
      "       BICYCLES       0.59      1.00      0.74       400\n",
      " CONTACT LENSES       0.99      0.69      0.81       400\n",
      "     USB MEMORY       1.00      0.80      0.89       400\n",
      "WASHINGMACHINES       0.98      0.79      0.87       400\n",
      "\n",
      "       accuracy                           0.82      1600\n",
      "      macro avg       0.89      0.82      0.83      1600\n",
      "   weighted avg       0.89      0.82      0.83      1600\n",
      "\n",
      "Report XGBoost With Preprocessing without other label\n",
      "\n",
      "                 precision    recall  f1-score   support\n",
      "\n",
      "       BICYCLES       0.68      0.93      0.78       400\n",
      " CONTACT LENSES       0.83      0.90      0.86       400\n",
      "     USB MEMORY       0.99      0.78      0.87       400\n",
      "WASHINGMACHINES       0.98      0.76      0.85       400\n",
      "\n",
      "       accuracy                           0.84      1600\n",
      "      macro avg       0.87      0.84      0.84      1600\n",
      "   weighted avg       0.87      0.84      0.84      1600\n",
      "\n"
     ]
    }
   ],
   "source": [
    "\n",
    "print(\"Report Naive Bayes With Preprocessing without other label\\n\")\n",
    "\n",
    "print(report_nb_nopreprocessing)\n",
    "\n",
    "print(\"Report XGBoost With Preprocessing without other label\\n\")\n",
    "\n",
    "print(report_xgb_nopreprocessing)"
   ]
  },
  {
   "cell_type": "markdown",
   "metadata": {},
   "source": [
    "## <a id='3.4'>3.4 Traditional Approach with all text columns</a>"
   ]
  },
  {
   "cell_type": "code",
   "execution_count": 61,
   "metadata": {},
   "outputs": [],
   "source": [
    "X_train, X_test, y_train, y_test = train_test_split(df_train_preprocessing['all_text'], \n",
    "                                                    df_train_preprocessing[['productgroup']],\n",
    "                                                    stratify=df_train_preprocessing['productgroup'], \n",
    "                                                    test_size=0.10)"
   ]
  },
  {
   "cell_type": "code",
   "execution_count": 62,
   "metadata": {},
   "outputs": [
    {
     "name": "stdout",
     "output_type": "stream",
     "text": [
      "Accuracy NB:  1.0\n"
     ]
    },
    {
     "name": "stderr",
     "output_type": "stream",
     "text": [
      "/usr/local/lib/python3.8/site-packages/sklearn/utils/validation.py:72: DataConversionWarning: A column-vector y was passed when a 1d array was expected. Please change the shape of y to (n_samples, ), for example using ravel().\n",
      "  return f(**kwargs)\n"
     ]
    }
   ],
   "source": [
    "# Use clf as a model, fit X_train and y_train\n",
    "clf_NB.fit(X_train, y_train)\n",
    "\n",
    "# predicted \n",
    "y_pred = clf_NB.predict(X_test)\n",
    "\n",
    "report_nb_nopreprocessing = metrics.classification_report(y_test, y_pred)\n",
    "\n",
    "accuracy = metrics.accuracy_score(y_test, y_pred)\n",
    "print(\"Accuracy NB: \",accuracy)"
   ]
  },
  {
   "cell_type": "code",
   "execution_count": 63,
   "metadata": {},
   "outputs": [
    {
     "name": "stderr",
     "output_type": "stream",
     "text": [
      "/usr/local/lib/python3.8/site-packages/sklearn/utils/validation.py:72: DataConversionWarning: A column-vector y was passed when a 1d array was expected. Please change the shape of y to (n_samples, ), for example using ravel().\n",
      "  return f(**kwargs)\n"
     ]
    },
    {
     "name": "stdout",
     "output_type": "stream",
     "text": [
      "Accuracy XGB:  0.9925\n"
     ]
    }
   ],
   "source": [
    "# Use clf as a model, fit X_train and y_train\n",
    "clf_XGB.fit(X_train, y_train)\n",
    "\n",
    "# predicted \n",
    "y_pred = clf_XGB.predict(X_test)\n",
    "\n",
    "report_xgb_all_cols = metrics.classification_report(y_test, y_pred)\n",
    "\n",
    "accuracy = metrics.accuracy_score(y_test, y_pred)\n",
    "print(\"Accuracy XGB: \", accuracy)"
   ]
  },
  {
   "cell_type": "code",
   "execution_count": 64,
   "metadata": {},
   "outputs": [
    {
     "name": "stdout",
     "output_type": "stream",
     "text": [
      "Report Naive Bayes With Preprocessing without other label\n",
      "\n",
      "                 precision    recall  f1-score   support\n",
      "\n",
      "       BICYCLES       1.00      0.99      0.99       200\n",
      " CONTACT LENSES       0.99      1.00      1.00       200\n",
      "     USB MEMORY       0.99      1.00      0.99       200\n",
      "WASHINGMACHINES       0.99      0.98      0.99       200\n",
      "\n",
      "       accuracy                           0.99       800\n",
      "      macro avg       0.99      0.99      0.99       800\n",
      "   weighted avg       0.99      0.99      0.99       800\n",
      "\n",
      "Report XGBoost With Preprocessing without other label\n",
      "\n",
      "                 precision    recall  f1-score   support\n",
      "\n",
      "       BICYCLES       1.00      0.99      0.99       200\n",
      " CONTACT LENSES       0.99      1.00      1.00       200\n",
      "     USB MEMORY       0.99      1.00      0.99       200\n",
      "WASHINGMACHINES       0.99      0.98      0.99       200\n",
      "\n",
      "       accuracy                           0.99       800\n",
      "      macro avg       0.99      0.99      0.99       800\n",
      "   weighted avg       0.99      0.99      0.99       800\n",
      "\n"
     ]
    }
   ],
   "source": [
    "\n",
    "print(\"Report Naive Bayes With Preprocessing without other label\\n\")\n",
    "\n",
    "print(report_xgb_all_cols)\n",
    "\n",
    "print(\"Report XGBoost With Preprocessing without other label\\n\")\n",
    "\n",
    "print(report_xgb_all_cols)"
   ]
  },
  {
   "cell_type": "markdown",
   "metadata": {},
   "source": [
    "# <a id='4'>4 Model Export</a>"
   ]
  },
  {
   "cell_type": "code",
   "execution_count": 68,
   "metadata": {},
   "outputs": [],
   "source": [
    "### Create a Pickle file for using in our rest api using serialization \n",
    "import pickle\n",
    "pickle_out = open(\"../models/product_classification_model_v0.0.pkl\",\"wb\")\n",
    "pickle.dump(clf_XGB, pickle_out)\n",
    "pickle_out.close()"
   ]
  },
  {
   "cell_type": "code",
   "execution_count": 69,
   "metadata": {},
   "outputs": [],
   "source": [
    "pickle_in = open(\"../models/product_classification_model_v0.0.pkl\",\"rb\")\n",
    "model=pickle.load(pickle_in)"
   ]
  },
  {
   "cell_type": "code",
   "execution_count": 70,
   "metadata": {},
   "outputs": [
    {
     "data": {
      "text/plain": [
       "Pipeline(steps=[('features',\n",
       "                 TfidfVectorizer(ngram_range=(1, 2), stop_words='english',\n",
       "                                 sublinear_tf=True)),\n",
       "                ('model',\n",
       "                 XGBClassifier(base_score=0.5, booster='gbtree',\n",
       "                               colsample_bylevel=1, colsample_bynode=1,\n",
       "                               colsample_bytree=1, gamma=0, gpu_id=-1,\n",
       "                               importance_type='gain',\n",
       "                               interaction_constraints='',\n",
       "                               learning_rate=0.300000012, max_delta_step=0,\n",
       "                               max_depth=6, min_child_weight=1, missing=nan,\n",
       "                               monotone_constraints='()', n_estimators=100,\n",
       "                               n_jobs=0, num_parallel_tree=1,\n",
       "                               objective='multi:softprob', random_state=0,\n",
       "                               reg_alpha=0, reg_lambda=1, scale_pos_weight=None,\n",
       "                               subsample=1, tree_method='exact',\n",
       "                               validate_parameters=1, verbosity=None))])"
      ]
     },
     "execution_count": 70,
     "metadata": {},
     "output_type": "execute_result"
    }
   ],
   "source": [
    "model"
   ]
  },
  {
   "cell_type": "markdown",
   "metadata": {},
   "source": [
    "# <a id='5'>5 Conclusion</a>"
   ]
  },
  {
   "cell_type": "markdown",
   "metadata": {},
   "source": [
    "I was able to train a model to classify products with 99% of accuracy and a F-score of almost 100% to all the four classes.\n",
    "\n",
    "\n",
    "I have found that with all the columns increase the performance of the model up to from 98% to  almost 100% in all metrics. \n",
    "\n",
    "\n",
    "I found that with this solution there is no need to use a Deep learning Model."
   ]
  },
  {
   "cell_type": "code",
   "execution_count": null,
   "metadata": {},
   "outputs": [],
   "source": []
  }
 ],
 "metadata": {
  "kernelspec": {
   "display_name": "Python 3",
   "language": "python",
   "name": "python3"
  },
  "language_info": {
   "codemirror_mode": {
    "name": "ipython",
    "version": 3
   },
   "file_extension": ".py",
   "mimetype": "text/x-python",
   "name": "python",
   "nbconvert_exporter": "python",
   "pygments_lexer": "ipython3",
   "version": "3.8.5"
  }
 },
 "nbformat": 4,
 "nbformat_minor": 4
}
